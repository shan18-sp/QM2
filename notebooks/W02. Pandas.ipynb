{
  "cells": [
    {
      "cell_type": "markdown",
      "metadata": {
        "id": "rh0t7NbNOgk5"
      },
      "source": [
        "# Intro to Pandas\n",
        "\n",
        "## *Workshop 2*  [![Open In Colab](https://github.com/oballinger/QM2/blob/main/colab-badge.png?raw=1)](https://colab.research.google.com/github/oballinger/QM2/blob/main/notebooks/W02.%20Pandas.ipynb)\n",
        "\n",
        "\n",
        "In this workshop, our aim is to get used to working with more complex data that we've imported from external files. We'll start to graph it, and to slice and dice it, to select the bits we're interested in.\n",
        "\n",
        "We will work with *pandas* to manipulate the data, and to derive measures and graphs that tell us a bit more than what the source data files tell us.\n",
        "\n",
        "### Aims\n",
        "\n",
        "- Learn to import data to python using pandas\n",
        "- Learn how access specific rows, columns and cells\n",
        "- Plot the data\n",
        "- Tidy up graphs to include axes"
      ]
    },
    {
      "cell_type": "markdown",
      "metadata": {
        "id": "5wnaRCMaOgk6"
      },
      "source": [
        "## Introduction\n",
        "\n",
        "We are going to work with some UK income data. The income data is packaged as a .csv file. The Pandas package knows how to handle this and put the data in a DataFrame, as we've seen. Let's examine the data and start to see what we can say about it. First of all, we have to find data - I'm interested in looking in data with a wide spread, so I looked for data on income in the UK.\n",
        "\n",
        "This data is collected by the Office for National Statistics(ONS) : http://www.ons.gov.uk/ons/datasets-and-tables/index.html?pageSize=50&sortBy=none&sortDirection=none&newquery=income+percentile - but the exact data I want to see, income by percentile, is tricky to find.\n",
        "\n",
        "I ended up using data from 2011, generated from a study called the Family Resources Survey and collated and tweaked by an independent research unit called the Institute of Fiscal Studies (IFS). The \"tweaking\" they do tends to be around the size of the family unit, and other factors which create economies of scale - hence they \"equivalise\" it. The IFS is quoted in UK Government documents, so we can have some trust in their impartiality, or at least accuracy - of course, if we were publishing research about this, that's not really good enough and we'd want to reproduce, or at least understand and critique, their methodology rather than just trusting it!\n",
        "\n",
        "e.g.:\n",
        "\n",
        "http://www.ifs.org.uk/wheredoyoufitin/about.php\n",
        "\n",
        "https://en.wikipedia.org/wiki/Equivalisation"
      ]
    },
    {
      "cell_type": "markdown",
      "metadata": {
        "id": "MsF6sfaWOgk7"
      },
      "source": [
        "## Downloading the Data\n",
        "\n",
        "Let's grab our income data from our course website and save it into our data folder.  If you've not already created a data folder then do so using the following command.  Don't worry if it generates an error, that means you've already got a data folder.\n"
      ]
    },
    {
      "cell_type": "code",
      "execution_count": null,
      "metadata": {
        "id": "cWXVYQmlOgk7",
        "outputId": "8d3f0b07-b78e-4f96-f001-f44e98d4e132"
      },
      "outputs": [
        {
          "name": "stdout",
          "output_type": "stream",
          "text": [
            "mkdir: data: File exists\n"
          ]
        }
      ],
      "source": [
        "!mkdir data"
      ]
    },
    {
      "cell_type": "code",
      "execution_count": null,
      "metadata": {
        "id": "cSISKOHUOglB",
        "outputId": "680ebe66-4bf3-4dc9-f96d-edc9d3b88e0f"
      },
      "outputs": [
        {
          "name": "stdout",
          "output_type": "stream",
          "text": [
            "mkdir: data/wk2: File exists\n",
            "  % Total    % Received % Xferd  Average Speed   Time    Time     Time  Current\n",
            "                                 Dload  Upload   Total   Spent    Left  Speed\n",
            "100 15154  100 15154    0     0   135k      0 --:--:-- --:--:-- --:--:--  143k\n"
          ]
        }
      ],
      "source": [
        "!mkdir data/wk2\n",
        "!curl https://s3.eu-west-2.amazonaws.com/qm2/wk2/incomes.csv -o ./data/wk2/incomes.csv"
      ]
    },
    {
      "cell_type": "markdown",
      "metadata": {
        "id": "-bsU0xgcOglF"
      },
      "source": [
        "      "
      ]
    },
    {
      "cell_type": "code",
      "execution_count": null,
      "metadata": {
        "id": "5cBMkYbaOglG"
      },
      "outputs": [],
      "source": [
        "import pandas\n",
        "import pylab\n",
        "import matplotlib.pyplot as plt\n",
        "# make the plots a little wider by default\n",
        "%matplotlib inline\n",
        "plt.style.use('ggplot')\n",
        "\n",
        "pylab.rcParams['figure.figsize'] = (10., 8.)"
      ]
    },
    {
      "cell_type": "code",
      "execution_count": null,
      "metadata": {
        "id": "GD2qMhAxOglK",
        "outputId": "7de3e697-6dcf-47d8-ae5a-2b74fea04d36"
      },
      "outputs": [
        {
          "data": {
            "text/html": [
              "<div>\n",
              "<style scoped>\n",
              "    .dataframe tbody tr th:only-of-type {\n",
              "        vertical-align: middle;\n",
              "    }\n",
              "\n",
              "    .dataframe tbody tr th {\n",
              "        vertical-align: top;\n",
              "    }\n",
              "\n",
              "    .dataframe thead th {\n",
              "        text-align: right;\n",
              "    }\n",
              "</style>\n",
              "<table border=\"1\" class=\"dataframe\">\n",
              "  <thead>\n",
              "    <tr style=\"text-align: right;\">\n",
              "      <th></th>\n",
              "      <th>Net equivalised household income in 2010-11, week</th>\n",
              "      <th>Childless couple, annual income</th>\n",
              "      <th>Couple, two children under 14</th>\n",
              "      <th>Couple, three children under 14</th>\n",
              "      <th>Couple with one child under 14</th>\n",
              "      <th>Couple with two children aged 15 to 18</th>\n",
              "      <th>Couple, two children under 14 plus dependent adult</th>\n",
              "      <th>Single adult</th>\n",
              "      <th>Lone parent, one child under 14</th>\n",
              "      <th>Lone parent, two children under 14</th>\n",
              "      <th>Lone parent, two children aged 15-18</th>\n",
              "      <th>ANNOTATIONS</th>\n",
              "      <th>1979 to 1996-97</th>\n",
              "      <th>1996-97 to 2009-10</th>\n",
              "      <th>1996-97 to 2010-11</th>\n",
              "    </tr>\n",
              "    <tr>\n",
              "      <th>Percentile Point</th>\n",
              "      <th></th>\n",
              "      <th></th>\n",
              "      <th></th>\n",
              "      <th></th>\n",
              "      <th></th>\n",
              "      <th></th>\n",
              "      <th></th>\n",
              "      <th></th>\n",
              "      <th></th>\n",
              "      <th></th>\n",
              "      <th></th>\n",
              "      <th></th>\n",
              "      <th></th>\n",
              "      <th></th>\n",
              "      <th></th>\n",
              "    </tr>\n",
              "  </thead>\n",
              "  <tbody>\n",
              "    <tr>\n",
              "      <th>1</th>\n",
              "      <td>33.50</td>\n",
              "      <td>1,746.92</td>\n",
              "      <td>2,445.69</td>\n",
              "      <td>2,795.08</td>\n",
              "      <td>2,096.31</td>\n",
              "      <td>2,899.89</td>\n",
              "      <td>3,022.18</td>\n",
              "      <td>1,170.44</td>\n",
              "      <td>1,519.82</td>\n",
              "      <td>1,869.21</td>\n",
              "      <td>2,323.41</td>\n",
              "      <td>NaN</td>\n",
              "      <td>NaN</td>\n",
              "      <td>NaN</td>\n",
              "      <td>NaN</td>\n",
              "    </tr>\n",
              "    <tr>\n",
              "      <th>2</th>\n",
              "      <td>98.60</td>\n",
              "      <td>5,141.01</td>\n",
              "      <td>7,197.41</td>\n",
              "      <td>8,225.61</td>\n",
              "      <td>6,169.21</td>\n",
              "      <td>8,534.07</td>\n",
              "      <td>8,893.95</td>\n",
              "      <td>3,444.48</td>\n",
              "      <td>4,472.68</td>\n",
              "      <td>5,500.88</td>\n",
              "      <td>6,837.54</td>\n",
              "      <td>NaN</td>\n",
              "      <td>-0.20%</td>\n",
              "      <td>-1.30%</td>\n",
              "      <td>-0.50%</td>\n",
              "    </tr>\n",
              "    <tr>\n",
              "      <th>3</th>\n",
              "      <td>128.56</td>\n",
              "      <td>6,703.11</td>\n",
              "      <td>9,384.36</td>\n",
              "      <td>10,724.98</td>\n",
              "      <td>8,043.74</td>\n",
              "      <td>11,127.17</td>\n",
              "      <td>11,596.39</td>\n",
              "      <td>4,491.09</td>\n",
              "      <td>5,831.71</td>\n",
              "      <td>7,172.33</td>\n",
              "      <td>8,915.14</td>\n",
              "      <td>NaN</td>\n",
              "      <td>0.40%</td>\n",
              "      <td>0.10%</td>\n",
              "      <td>0.10%</td>\n",
              "    </tr>\n",
              "    <tr>\n",
              "      <th>4</th>\n",
              "      <td>151.05</td>\n",
              "      <td>7,875.75</td>\n",
              "      <td>11,026.05</td>\n",
              "      <td>12,601.20</td>\n",
              "      <td>9,450.90</td>\n",
              "      <td>13,073.75</td>\n",
              "      <td>13,625.05</td>\n",
              "      <td>5,276.75</td>\n",
              "      <td>6,851.90</td>\n",
              "      <td>8,427.05</td>\n",
              "      <td>10,474.75</td>\n",
              "      <td>NaN</td>\n",
              "      <td>0.50%</td>\n",
              "      <td>0.80%</td>\n",
              "      <td>0.60%</td>\n",
              "    </tr>\n",
              "    <tr>\n",
              "      <th>5</th>\n",
              "      <td>166.32</td>\n",
              "      <td>8,671.91</td>\n",
              "      <td>12,140.68</td>\n",
              "      <td>13,875.06</td>\n",
              "      <td>10,406.30</td>\n",
              "      <td>14,395.38</td>\n",
              "      <td>15,002.41</td>\n",
              "      <td>5,810.18</td>\n",
              "      <td>7,544.57</td>\n",
              "      <td>9,278.95</td>\n",
              "      <td>11,533.65</td>\n",
              "      <td>NaN</td>\n",
              "      <td>0.70%</td>\n",
              "      <td>1.00%</td>\n",
              "      <td>0.90%</td>\n",
              "    </tr>\n",
              "  </tbody>\n",
              "</table>\n",
              "</div>"
            ],
            "text/plain": [
              "                  Net equivalised household income in 2010-11, week  \\\n",
              "Percentile Point                                                      \n",
              "1                                                             33.50   \n",
              "2                                                             98.60   \n",
              "3                                                            128.56   \n",
              "4                                                            151.05   \n",
              "5                                                            166.32   \n",
              "\n",
              "                 Childless couple, annual income  \\\n",
              "Percentile Point                                   \n",
              "1                                       1,746.92   \n",
              "2                                       5,141.01   \n",
              "3                                       6,703.11   \n",
              "4                                       7,875.75   \n",
              "5                                       8,671.91   \n",
              "\n",
              "                 Couple, two children under 14  \\\n",
              "Percentile Point                                 \n",
              "1                                     2,445.69   \n",
              "2                                     7,197.41   \n",
              "3                                     9,384.36   \n",
              "4                                    11,026.05   \n",
              "5                                    12,140.68   \n",
              "\n",
              "                 Couple, three children under 14  \\\n",
              "Percentile Point                                   \n",
              "1                                       2,795.08   \n",
              "2                                       8,225.61   \n",
              "3                                      10,724.98   \n",
              "4                                      12,601.20   \n",
              "5                                      13,875.06   \n",
              "\n",
              "                 Couple with one child under 14  \\\n",
              "Percentile Point                                  \n",
              "1                                      2,096.31   \n",
              "2                                      6,169.21   \n",
              "3                                      8,043.74   \n",
              "4                                      9,450.90   \n",
              "5                                     10,406.30   \n",
              "\n",
              "                 Couple with two children aged 15 to 18  \\\n",
              "Percentile Point                                          \n",
              "1                                              2,899.89   \n",
              "2                                              8,534.07   \n",
              "3                                             11,127.17   \n",
              "4                                             13,073.75   \n",
              "5                                             14,395.38   \n",
              "\n",
              "                 Couple, two children under 14 plus dependent adult  \\\n",
              "Percentile Point                                                      \n",
              "1                                                          3,022.18   \n",
              "2                                                          8,893.95   \n",
              "3                                                         11,596.39   \n",
              "4                                                         13,625.05   \n",
              "5                                                         15,002.41   \n",
              "\n",
              "                 Single adult Lone parent, one child under 14  \\\n",
              "Percentile Point                                                \n",
              "1                    1,170.44                        1,519.82   \n",
              "2                    3,444.48                        4,472.68   \n",
              "3                    4,491.09                        5,831.71   \n",
              "4                    5,276.75                        6,851.90   \n",
              "5                    5,810.18                        7,544.57   \n",
              "\n",
              "                 Lone parent, two children under 14  \\\n",
              "Percentile Point                                      \n",
              "1                                          1,869.21   \n",
              "2                                          5,500.88   \n",
              "3                                          7,172.33   \n",
              "4                                          8,427.05   \n",
              "5                                          9,278.95   \n",
              "\n",
              "                 Lone parent, two children aged 15-18 ANNOTATIONS  \\\n",
              "Percentile Point                                                    \n",
              "1                                            2,323.41         NaN   \n",
              "2                                            6,837.54         NaN   \n",
              "3                                            8,915.14         NaN   \n",
              "4                                           10,474.75         NaN   \n",
              "5                                           11,533.65         NaN   \n",
              "\n",
              "                 1979 to 1996-97 1996-97 to 2009-10 1996-97 to 2010-11  \n",
              "Percentile Point                                                        \n",
              "1                            NaN                NaN                NaN  \n",
              "2                         -0.20%             -1.30%             -0.50%  \n",
              "3                          0.40%              0.10%              0.10%  \n",
              "4                          0.50%              0.80%              0.60%  \n",
              "5                          0.70%              1.00%              0.90%  "
            ]
          },
          "execution_count": 42,
          "metadata": {},
          "output_type": "execute_result"
        }
      ],
      "source": [
        "data_path = \"./data/wk2/incomes.csv\"\n",
        "\n",
        "income =  pandas.read_csv(data_path, index_col=0)\n",
        "income.head()"
      ]
    },
    {
      "cell_type": "markdown",
      "metadata": {
        "id": "nwBN9m9BOglN"
      },
      "source": [
        "This is a simple dataframe - we see the percentile and an income. Note that I've told pandas to use the first column (the Percentile) as the index to make life easier.\n",
        "\n",
        "The percentile tells us how people on that income rank - so the final category, 99% (which is really binned, so 99%<n$\\leq$ 100%), is telling us how much \"the 1%\" earn. Let's find out:"
      ]
    },
    {
      "cell_type": "code",
      "execution_count": null,
      "metadata": {
        "id": "SqAN20onOglN",
        "outputId": "87700c23-b877-4422-96fa-4ca040c082a0"
      },
      "outputs": [
        {
          "data": {
            "text/html": [
              "<div>\n",
              "<style scoped>\n",
              "    .dataframe tbody tr th:only-of-type {\n",
              "        vertical-align: middle;\n",
              "    }\n",
              "\n",
              "    .dataframe tbody tr th {\n",
              "        vertical-align: top;\n",
              "    }\n",
              "\n",
              "    .dataframe thead th {\n",
              "        text-align: right;\n",
              "    }\n",
              "</style>\n",
              "<table border=\"1\" class=\"dataframe\">\n",
              "  <thead>\n",
              "    <tr style=\"text-align: right;\">\n",
              "      <th></th>\n",
              "      <th>Net equivalised household income in 2010-11, week</th>\n",
              "      <th>Childless couple, annual income</th>\n",
              "      <th>Couple, two children under 14</th>\n",
              "      <th>Couple, three children under 14</th>\n",
              "      <th>Couple with one child under 14</th>\n",
              "      <th>Couple with two children aged 15 to 18</th>\n",
              "      <th>Couple, two children under 14 plus dependent adult</th>\n",
              "      <th>Single adult</th>\n",
              "      <th>Lone parent, one child under 14</th>\n",
              "      <th>Lone parent, two children under 14</th>\n",
              "      <th>Lone parent, two children aged 15-18</th>\n",
              "      <th>ANNOTATIONS</th>\n",
              "      <th>1979 to 1996-97</th>\n",
              "      <th>1996-97 to 2009-10</th>\n",
              "      <th>1996-97 to 2010-11</th>\n",
              "    </tr>\n",
              "    <tr>\n",
              "      <th>Percentile Point</th>\n",
              "      <th></th>\n",
              "      <th></th>\n",
              "      <th></th>\n",
              "      <th></th>\n",
              "      <th></th>\n",
              "      <th></th>\n",
              "      <th></th>\n",
              "      <th></th>\n",
              "      <th></th>\n",
              "      <th></th>\n",
              "      <th></th>\n",
              "      <th></th>\n",
              "      <th></th>\n",
              "      <th></th>\n",
              "      <th></th>\n",
              "    </tr>\n",
              "  </thead>\n",
              "  <tbody>\n",
              "    <tr>\n",
              "      <th>95</th>\n",
              "      <td>1075.73</td>\n",
              "      <td>56,088.56</td>\n",
              "      <td>78,523.99</td>\n",
              "      <td>89,741.70</td>\n",
              "      <td>67,306.27</td>\n",
              "      <td>93,107.01</td>\n",
              "      <td>97,033.21</td>\n",
              "      <td>37,579.34</td>\n",
              "      <td>48,797.05</td>\n",
              "      <td>60,014.76</td>\n",
              "      <td>74,597.79</td>\n",
              "      <td>NaN</td>\n",
              "      <td>2.90%</td>\n",
              "      <td>2.00%</td>\n",
              "      <td>1.30%</td>\n",
              "    </tr>\n",
              "    <tr>\n",
              "      <th>96</th>\n",
              "      <td>1174.48</td>\n",
              "      <td>61,237.18</td>\n",
              "      <td>85,732.05</td>\n",
              "      <td>97,979.49</td>\n",
              "      <td>73,484.61</td>\n",
              "      <td>101,653.72</td>\n",
              "      <td>105,940.32</td>\n",
              "      <td>41,028.91</td>\n",
              "      <td>53,276.35</td>\n",
              "      <td>65,523.78</td>\n",
              "      <td>81,445.45</td>\n",
              "      <td>NaN</td>\n",
              "      <td>3.00%</td>\n",
              "      <td>2.00%</td>\n",
              "      <td>1.40%</td>\n",
              "    </tr>\n",
              "    <tr>\n",
              "      <th>97</th>\n",
              "      <td>1302.74</td>\n",
              "      <td>67,925.07</td>\n",
              "      <td>95,095.10</td>\n",
              "      <td>108,680.12</td>\n",
              "      <td>81,510.09</td>\n",
              "      <td>112,755.62</td>\n",
              "      <td>117,510.37</td>\n",
              "      <td>45,509.80</td>\n",
              "      <td>59,094.81</td>\n",
              "      <td>72,679.83</td>\n",
              "      <td>90,340.35</td>\n",
              "      <td>NaN</td>\n",
              "      <td>3.20%</td>\n",
              "      <td>2.20%</td>\n",
              "      <td>1.60%</td>\n",
              "    </tr>\n",
              "    <tr>\n",
              "      <th>98</th>\n",
              "      <td>1523.31</td>\n",
              "      <td>79,425.23</td>\n",
              "      <td>111,195.32</td>\n",
              "      <td>127,080.36</td>\n",
              "      <td>95,310.27</td>\n",
              "      <td>131,845.88</td>\n",
              "      <td>137,405.64</td>\n",
              "      <td>53,214.90</td>\n",
              "      <td>69,099.95</td>\n",
              "      <td>84,984.99</td>\n",
              "      <td>105,635.55</td>\n",
              "      <td>NaN</td>\n",
              "      <td>3.20%</td>\n",
              "      <td>2.70%</td>\n",
              "      <td>1.70%</td>\n",
              "    </tr>\n",
              "    <tr>\n",
              "      <th>99</th>\n",
              "      <td>2090.35</td>\n",
              "      <td>108,990.74</td>\n",
              "      <td>152,587.04</td>\n",
              "      <td>174,385.19</td>\n",
              "      <td>130,788.89</td>\n",
              "      <td>180,924.64</td>\n",
              "      <td>188,553.99</td>\n",
              "      <td>73,023.80</td>\n",
              "      <td>94,821.95</td>\n",
              "      <td>116,620.10</td>\n",
              "      <td>144,957.69</td>\n",
              "      <td>NaN</td>\n",
              "      <td>NaN</td>\n",
              "      <td>NaN</td>\n",
              "      <td>NaN</td>\n",
              "    </tr>\n",
              "  </tbody>\n",
              "</table>\n",
              "</div>"
            ],
            "text/plain": [
              "                  Net equivalised household income in 2010-11, week  \\\n",
              "Percentile Point                                                      \n",
              "95                                                          1075.73   \n",
              "96                                                          1174.48   \n",
              "97                                                          1302.74   \n",
              "98                                                          1523.31   \n",
              "99                                                          2090.35   \n",
              "\n",
              "                 Childless couple, annual income  \\\n",
              "Percentile Point                                   \n",
              "95                                     56,088.56   \n",
              "96                                     61,237.18   \n",
              "97                                     67,925.07   \n",
              "98                                     79,425.23   \n",
              "99                                    108,990.74   \n",
              "\n",
              "                 Couple, two children under 14  \\\n",
              "Percentile Point                                 \n",
              "95                                   78,523.99   \n",
              "96                                   85,732.05   \n",
              "97                                   95,095.10   \n",
              "98                                  111,195.32   \n",
              "99                                  152,587.04   \n",
              "\n",
              "                 Couple, three children under 14  \\\n",
              "Percentile Point                                   \n",
              "95                                     89,741.70   \n",
              "96                                     97,979.49   \n",
              "97                                    108,680.12   \n",
              "98                                    127,080.36   \n",
              "99                                    174,385.19   \n",
              "\n",
              "                 Couple with one child under 14  \\\n",
              "Percentile Point                                  \n",
              "95                                    67,306.27   \n",
              "96                                    73,484.61   \n",
              "97                                    81,510.09   \n",
              "98                                    95,310.27   \n",
              "99                                   130,788.89   \n",
              "\n",
              "                 Couple with two children aged 15 to 18  \\\n",
              "Percentile Point                                          \n",
              "95                                            93,107.01   \n",
              "96                                           101,653.72   \n",
              "97                                           112,755.62   \n",
              "98                                           131,845.88   \n",
              "99                                           180,924.64   \n",
              "\n",
              "                 Couple, two children under 14 plus dependent adult  \\\n",
              "Percentile Point                                                      \n",
              "95                                                        97,033.21   \n",
              "96                                                       105,940.32   \n",
              "97                                                       117,510.37   \n",
              "98                                                       137,405.64   \n",
              "99                                                       188,553.99   \n",
              "\n",
              "                 Single adult Lone parent, one child under 14  \\\n",
              "Percentile Point                                                \n",
              "95                  37,579.34                       48,797.05   \n",
              "96                  41,028.91                       53,276.35   \n",
              "97                  45,509.80                       59,094.81   \n",
              "98                  53,214.90                       69,099.95   \n",
              "99                  73,023.80                       94,821.95   \n",
              "\n",
              "                 Lone parent, two children under 14  \\\n",
              "Percentile Point                                      \n",
              "95                                        60,014.76   \n",
              "96                                        65,523.78   \n",
              "97                                        72,679.83   \n",
              "98                                        84,984.99   \n",
              "99                                       116,620.10   \n",
              "\n",
              "                 Lone parent, two children aged 15-18 ANNOTATIONS  \\\n",
              "Percentile Point                                                    \n",
              "95                                          74,597.79         NaN   \n",
              "96                                          81,445.45         NaN   \n",
              "97                                          90,340.35         NaN   \n",
              "98                                         105,635.55         NaN   \n",
              "99                                         144,957.69         NaN   \n",
              "\n",
              "                 1979 to 1996-97 1996-97 to 2009-10 1996-97 to 2010-11  \n",
              "Percentile Point                                                        \n",
              "95                         2.90%              2.00%              1.30%  \n",
              "96                         3.00%              2.00%              1.40%  \n",
              "97                         3.20%              2.20%              1.60%  \n",
              "98                         3.20%              2.70%              1.70%  \n",
              "99                           NaN                NaN                NaN  "
            ]
          },
          "execution_count": 43,
          "metadata": {},
          "output_type": "execute_result"
        }
      ],
      "source": [
        "income.tail()"
      ]
    },
    {
      "cell_type": "markdown",
      "metadata": {
        "id": "uvoYh43VOglQ"
      },
      "source": [
        "Well, they we have it - the 1% earn, on average, about £2000 a week. How does that compare to people in the 90% decile? We can access particular *rows* in a dataframe using **.loc[row index]**; because our index is the percentile point, we can just read it off:"
      ]
    },
    {
      "cell_type": "code",
      "execution_count": null,
      "metadata": {
        "id": "amopH87LOglQ",
        "outputId": "bdaa752a-9354-4e46-ba7d-af5526d03a95"
      },
      "outputs": [
        {
          "data": {
            "text/plain": [
              "Net equivalised household income in 2010-11, week        845.54\n",
              "Childless couple, annual income                       44,086.54\n",
              "Couple, two children under 14                         61,721.15\n",
              "Couple, three children under 14                       70,538.46\n",
              "Couple with one child under 14                        52,903.85\n",
              "Couple with two children aged 15 to 18                73,183.65\n",
              "Couple, two children under 14 plus dependent adult    76,269.71\n",
              "Single adult                                          29,537.98\n",
              "Lone parent, one child under 14                       38,355.29\n",
              "Lone parent, two children under 14                    47,172.60\n",
              "Lone parent, two children aged 15-18                  58,635.10\n",
              "ANNOTATIONS                                                 NaN\n",
              "1979 to 1996-97                                           2.50%\n",
              "1996-97 to 2009-10                                        1.70%\n",
              "1996-97 to 2010-11                                        1.20%\n",
              "Name: 90, dtype: object"
            ]
          },
          "execution_count": 44,
          "metadata": {},
          "output_type": "execute_result"
        }
      ],
      "source": [
        "income.loc[90]"
      ]
    },
    {
      "cell_type": "markdown",
      "metadata": {
        "id": "T9-QS6W4OglU"
      },
      "source": [
        "We can also select a range of values with the \"colon\" notation. This will select the 90-95th percentiles, for example:"
      ]
    },
    {
      "cell_type": "code",
      "execution_count": null,
      "metadata": {
        "id": "VJDvuHzvOglU",
        "outputId": "48b6f0d7-2bfb-4b70-8a5a-59224e6c4abc"
      },
      "outputs": [
        {
          "data": {
            "text/html": [
              "<div>\n",
              "<style scoped>\n",
              "    .dataframe tbody tr th:only-of-type {\n",
              "        vertical-align: middle;\n",
              "    }\n",
              "\n",
              "    .dataframe tbody tr th {\n",
              "        vertical-align: top;\n",
              "    }\n",
              "\n",
              "    .dataframe thead th {\n",
              "        text-align: right;\n",
              "    }\n",
              "</style>\n",
              "<table border=\"1\" class=\"dataframe\">\n",
              "  <thead>\n",
              "    <tr style=\"text-align: right;\">\n",
              "      <th></th>\n",
              "      <th>Net equivalised household income in 2010-11, week</th>\n",
              "      <th>Childless couple, annual income</th>\n",
              "      <th>Couple, two children under 14</th>\n",
              "      <th>Couple, three children under 14</th>\n",
              "      <th>Couple with one child under 14</th>\n",
              "      <th>Couple with two children aged 15 to 18</th>\n",
              "      <th>Couple, two children under 14 plus dependent adult</th>\n",
              "      <th>Single adult</th>\n",
              "      <th>Lone parent, one child under 14</th>\n",
              "      <th>Lone parent, two children under 14</th>\n",
              "      <th>Lone parent, two children aged 15-18</th>\n",
              "      <th>ANNOTATIONS</th>\n",
              "      <th>1979 to 1996-97</th>\n",
              "      <th>1996-97 to 2009-10</th>\n",
              "      <th>1996-97 to 2010-11</th>\n",
              "    </tr>\n",
              "    <tr>\n",
              "      <th>Percentile Point</th>\n",
              "      <th></th>\n",
              "      <th></th>\n",
              "      <th></th>\n",
              "      <th></th>\n",
              "      <th></th>\n",
              "      <th></th>\n",
              "      <th></th>\n",
              "      <th></th>\n",
              "      <th></th>\n",
              "      <th></th>\n",
              "      <th></th>\n",
              "      <th></th>\n",
              "      <th></th>\n",
              "      <th></th>\n",
              "      <th></th>\n",
              "    </tr>\n",
              "  </thead>\n",
              "  <tbody>\n",
              "    <tr>\n",
              "      <th>90</th>\n",
              "      <td>845.54</td>\n",
              "      <td>44,086.54</td>\n",
              "      <td>61,721.15</td>\n",
              "      <td>70,538.46</td>\n",
              "      <td>52,903.85</td>\n",
              "      <td>73,183.65</td>\n",
              "      <td>76,269.71</td>\n",
              "      <td>29,537.98</td>\n",
              "      <td>38,355.29</td>\n",
              "      <td>47,172.60</td>\n",
              "      <td>58,635.10</td>\n",
              "      <td>NaN</td>\n",
              "      <td>2.50%</td>\n",
              "      <td>1.70%</td>\n",
              "      <td>1.20%</td>\n",
              "    </tr>\n",
              "    <tr>\n",
              "      <th>91</th>\n",
              "      <td>876.63</td>\n",
              "      <td>45,707.74</td>\n",
              "      <td>63,990.84</td>\n",
              "      <td>73,132.39</td>\n",
              "      <td>54,849.29</td>\n",
              "      <td>75,874.85</td>\n",
              "      <td>79,074.40</td>\n",
              "      <td>30,624.19</td>\n",
              "      <td>39,765.74</td>\n",
              "      <td>48,907.29</td>\n",
              "      <td>60,791.30</td>\n",
              "      <td>NaN</td>\n",
              "      <td>2.60%</td>\n",
              "      <td>1.70%</td>\n",
              "      <td>1.20%</td>\n",
              "    </tr>\n",
              "    <tr>\n",
              "      <th>92</th>\n",
              "      <td>911.29</td>\n",
              "      <td>47,514.54</td>\n",
              "      <td>66,520.35</td>\n",
              "      <td>76,023.26</td>\n",
              "      <td>57,017.44</td>\n",
              "      <td>78,874.13</td>\n",
              "      <td>82,200.15</td>\n",
              "      <td>31,834.74</td>\n",
              "      <td>41,337.65</td>\n",
              "      <td>50,840.55</td>\n",
              "      <td>63,194.33</td>\n",
              "      <td>NaN</td>\n",
              "      <td>2.60%</td>\n",
              "      <td>1.80%</td>\n",
              "      <td>1.20%</td>\n",
              "    </tr>\n",
              "    <tr>\n",
              "      <th>93</th>\n",
              "      <td>957.14</td>\n",
              "      <td>49,905.23</td>\n",
              "      <td>69,867.32</td>\n",
              "      <td>79,848.36</td>\n",
              "      <td>59,886.27</td>\n",
              "      <td>82,842.68</td>\n",
              "      <td>86,336.04</td>\n",
              "      <td>33,436.50</td>\n",
              "      <td>43,417.55</td>\n",
              "      <td>53,398.59</td>\n",
              "      <td>66,373.95</td>\n",
              "      <td>NaN</td>\n",
              "      <td>2.70%</td>\n",
              "      <td>1.80%</td>\n",
              "      <td>1.30%</td>\n",
              "    </tr>\n",
              "    <tr>\n",
              "      <th>94</th>\n",
              "      <td>1016.37</td>\n",
              "      <td>52,993.38</td>\n",
              "      <td>74,190.73</td>\n",
              "      <td>84,789.40</td>\n",
              "      <td>63,592.05</td>\n",
              "      <td>87,969.00</td>\n",
              "      <td>91,678.54</td>\n",
              "      <td>35,505.56</td>\n",
              "      <td>46,104.24</td>\n",
              "      <td>56,702.91</td>\n",
              "      <td>70,481.19</td>\n",
              "      <td>NaN</td>\n",
              "      <td>2.90%</td>\n",
              "      <td>1.90%</td>\n",
              "      <td>1.30%</td>\n",
              "    </tr>\n",
              "    <tr>\n",
              "      <th>95</th>\n",
              "      <td>1075.73</td>\n",
              "      <td>56,088.56</td>\n",
              "      <td>78,523.99</td>\n",
              "      <td>89,741.70</td>\n",
              "      <td>67,306.27</td>\n",
              "      <td>93,107.01</td>\n",
              "      <td>97,033.21</td>\n",
              "      <td>37,579.34</td>\n",
              "      <td>48,797.05</td>\n",
              "      <td>60,014.76</td>\n",
              "      <td>74,597.79</td>\n",
              "      <td>NaN</td>\n",
              "      <td>2.90%</td>\n",
              "      <td>2.00%</td>\n",
              "      <td>1.30%</td>\n",
              "    </tr>\n",
              "  </tbody>\n",
              "</table>\n",
              "</div>"
            ],
            "text/plain": [
              "                  Net equivalised household income in 2010-11, week  \\\n",
              "Percentile Point                                                      \n",
              "90                                                           845.54   \n",
              "91                                                           876.63   \n",
              "92                                                           911.29   \n",
              "93                                                           957.14   \n",
              "94                                                          1016.37   \n",
              "95                                                          1075.73   \n",
              "\n",
              "                 Childless couple, annual income  \\\n",
              "Percentile Point                                   \n",
              "90                                     44,086.54   \n",
              "91                                     45,707.74   \n",
              "92                                     47,514.54   \n",
              "93                                     49,905.23   \n",
              "94                                     52,993.38   \n",
              "95                                     56,088.56   \n",
              "\n",
              "                 Couple, two children under 14  \\\n",
              "Percentile Point                                 \n",
              "90                                   61,721.15   \n",
              "91                                   63,990.84   \n",
              "92                                   66,520.35   \n",
              "93                                   69,867.32   \n",
              "94                                   74,190.73   \n",
              "95                                   78,523.99   \n",
              "\n",
              "                 Couple, three children under 14  \\\n",
              "Percentile Point                                   \n",
              "90                                     70,538.46   \n",
              "91                                     73,132.39   \n",
              "92                                     76,023.26   \n",
              "93                                     79,848.36   \n",
              "94                                     84,789.40   \n",
              "95                                     89,741.70   \n",
              "\n",
              "                 Couple with one child under 14  \\\n",
              "Percentile Point                                  \n",
              "90                                    52,903.85   \n",
              "91                                    54,849.29   \n",
              "92                                    57,017.44   \n",
              "93                                    59,886.27   \n",
              "94                                    63,592.05   \n",
              "95                                    67,306.27   \n",
              "\n",
              "                 Couple with two children aged 15 to 18  \\\n",
              "Percentile Point                                          \n",
              "90                                            73,183.65   \n",
              "91                                            75,874.85   \n",
              "92                                            78,874.13   \n",
              "93                                            82,842.68   \n",
              "94                                            87,969.00   \n",
              "95                                            93,107.01   \n",
              "\n",
              "                 Couple, two children under 14 plus dependent adult  \\\n",
              "Percentile Point                                                      \n",
              "90                                                        76,269.71   \n",
              "91                                                        79,074.40   \n",
              "92                                                        82,200.15   \n",
              "93                                                        86,336.04   \n",
              "94                                                        91,678.54   \n",
              "95                                                        97,033.21   \n",
              "\n",
              "                 Single adult Lone parent, one child under 14  \\\n",
              "Percentile Point                                                \n",
              "90                  29,537.98                       38,355.29   \n",
              "91                  30,624.19                       39,765.74   \n",
              "92                  31,834.74                       41,337.65   \n",
              "93                  33,436.50                       43,417.55   \n",
              "94                  35,505.56                       46,104.24   \n",
              "95                  37,579.34                       48,797.05   \n",
              "\n",
              "                 Lone parent, two children under 14  \\\n",
              "Percentile Point                                      \n",
              "90                                        47,172.60   \n",
              "91                                        48,907.29   \n",
              "92                                        50,840.55   \n",
              "93                                        53,398.59   \n",
              "94                                        56,702.91   \n",
              "95                                        60,014.76   \n",
              "\n",
              "                 Lone parent, two children aged 15-18 ANNOTATIONS  \\\n",
              "Percentile Point                                                    \n",
              "90                                          58,635.10         NaN   \n",
              "91                                          60,791.30         NaN   \n",
              "92                                          63,194.33         NaN   \n",
              "93                                          66,373.95         NaN   \n",
              "94                                          70,481.19         NaN   \n",
              "95                                          74,597.79         NaN   \n",
              "\n",
              "                 1979 to 1996-97 1996-97 to 2009-10 1996-97 to 2010-11  \n",
              "Percentile Point                                                        \n",
              "90                         2.50%              1.70%              1.20%  \n",
              "91                         2.60%              1.70%              1.20%  \n",
              "92                         2.60%              1.80%              1.20%  \n",
              "93                         2.70%              1.80%              1.30%  \n",
              "94                         2.90%              1.90%              1.30%  \n",
              "95                         2.90%              2.00%              1.30%  "
            ]
          },
          "execution_count": 45,
          "metadata": {},
          "output_type": "execute_result"
        }
      ],
      "source": [
        "income.loc[90:95]"
      ]
    },
    {
      "cell_type": "markdown",
      "metadata": {
        "id": "5dgcOIQeOglW"
      },
      "source": [
        "## Accessing parts of a dataframe\n",
        "\n",
        "If we want to extract the actual value instead of just the whole row, we need to reference the *column* as well as the row. In pandas, columns are referenced by **column name**:"
      ]
    },
    {
      "cell_type": "code",
      "execution_count": null,
      "metadata": {
        "id": "D9tXjsnGOglW",
        "outputId": "fe6f64cd-3e95-421f-bda4-cc0e49a91470"
      },
      "outputs": [
        {
          "data": {
            "text/plain": [
              "Percentile Point\n",
              "1       33.50\n",
              "2       98.60\n",
              "3      128.56\n",
              "4      151.05\n",
              "5      166.32\n",
              "       ...   \n",
              "95    1075.73\n",
              "96    1174.48\n",
              "97    1302.74\n",
              "98    1523.31\n",
              "99    2090.35\n",
              "Name: Net equivalised household income in 2010-11, week, Length: 99, dtype: float64"
            ]
          },
          "execution_count": 46,
          "metadata": {},
          "output_type": "execute_result"
        }
      ],
      "source": [
        "income['Net equivalised household income in 2010-11, week']"
      ]
    },
    {
      "cell_type": "markdown",
      "metadata": {
        "id": "5-9Rh1x1OglZ"
      },
      "source": [
        "So, to access a particular cell, we tell Python the row and the column (this is pretty simple - the same way we tell excel to access cell \"A34\" meaning Column A, Row 34). One way we do that in pandas is to select the column, and then use .loc[] on the index."
      ]
    },
    {
      "cell_type": "code",
      "execution_count": null,
      "metadata": {
        "id": "3e7BrLoCOglZ",
        "outputId": "6b014e71-7425-411c-8720-cce574b5872c"
      },
      "outputs": [
        {
          "data": {
            "text/plain": [
              "845.54"
            ]
          },
          "execution_count": 47,
          "metadata": {},
          "output_type": "execute_result"
        }
      ],
      "source": [
        "income['Net equivalised household income in 2010-11, week'].loc[90]"
      ]
    },
    {
      "cell_type": "markdown",
      "metadata": {
        "id": "1TBCVuLQOglc"
      },
      "source": [
        "We've accessed row 90 of the column called 'Net equivalised household income in 2010-11, week'; can we access the data the other way around - can we first take the row and then specify a column? Let's try:"
      ]
    },
    {
      "cell_type": "code",
      "execution_count": null,
      "metadata": {
        "id": "R7Ix_HYPOglc",
        "outputId": "98d1d8bc-482a-4b24-bbca-fa9403ce60bf"
      },
      "outputs": [
        {
          "data": {
            "text/plain": [
              "845.54"
            ]
          },
          "execution_count": 48,
          "metadata": {},
          "output_type": "execute_result"
        }
      ],
      "source": [
        "income.loc[90]['Net equivalised household income in 2010-11, week']"
      ]
    },
    {
      "cell_type": "markdown",
      "metadata": {
        "id": "vrLFa4LjOgle"
      },
      "source": [
        "Yes, this seems to be working fine."
      ]
    },
    {
      "cell_type": "markdown",
      "metadata": {
        "id": "Pn1SslxTOglf"
      },
      "source": [
        "### Extension\n",
        "\n",
        "The reason for this is that selecting the column spits out a smaller dataframe, and all dataframes use  \"loc\", so we can use that. Another way to do this would be to use an explicit variable for the dataframe, along the lines of:\n",
        "\n",
        "`smallDataFrame = income['Net equivalised household income in 2010-11, week']`  \n",
        "`smallDataFrame.loc[90]`\n",
        "\n",
        "by doing income\n",
        "\n",
        "`['Net equivalised household income in 2010-11, week'].loc[90]`   \n",
        "\n",
        "we're taking the \"smallDataFrame\" object as an implicit (or hidden) output"
      ]
    },
    {
      "cell_type": "markdown",
      "metadata": {
        "id": "wZeXYNIAOglf"
      },
      "source": [
        "If we want to look at a few rows of data, we can use a range:"
      ]
    },
    {
      "cell_type": "code",
      "execution_count": null,
      "metadata": {
        "id": "PYBoACruOglg",
        "outputId": "ca480e45-325b-4eb3-ee08-3fb95905d035"
      },
      "outputs": [
        {
          "data": {
            "text/plain": [
              "Percentile Point\n",
              "90     845.54\n",
              "91     876.63\n",
              "92     911.29\n",
              "93     957.14\n",
              "94    1016.37\n",
              "95    1075.73\n",
              "Name: Net equivalised household income in 2010-11, week, dtype: float64"
            ]
          },
          "execution_count": 49,
          "metadata": {},
          "output_type": "execute_result"
        }
      ],
      "source": [
        "income['Net equivalised household income in 2010-11, week'].loc[90:95]"
      ]
    },
    {
      "cell_type": "markdown",
      "metadata": {
        "id": "ocHXwl23Oglk"
      },
      "source": [
        "So, to recap, we can now access a particular **row** using *loc[index number]*, a particular **column** with the square brackets formalism *dataframename['column name']*, or both *dataframename['column name'].loc[index number]*. We've made a start at being able to get to the bits of data we need."
      ]
    },
    {
      "cell_type": "markdown",
      "metadata": {
        "id": "SuUywdOYOgll"
      },
      "source": [
        "## Exercise:\n",
        "    \n",
        "How do the equivalised incomes of single adults and childless couples compare? Look at the 1st, 99th and 50th percentile and summarise what this tells you about the value or price of coupling."
      ]
    },
    {
      "cell_type": "code",
      "source": [
        "data_path = \"./data/wk2/incomes.csv\"\n",
        "income =  pandas.read_csv(data_path, index_col=0)\n",
        "\n",
        "single_1 = income['Single adult'].loc[1].replace(',','')\n",
        "childless_1 = income['Childless couple, annual income'].loc[1].replace(',','')\n",
        "single_99 = income['Single adult'].loc[99].replace(',','')\n",
        "childless_99 = income['Childless couple, annual income'].loc[99].replace(',','')\n",
        "single_50 = income['Single adult'].loc[50].replace(',','')\n",
        "childless_50 = income['Childless couple, annual income'].loc[50].replace(',','')\n",
        "\n",
        "values = (single_1, childless_1, single_99, childless_99, single_50, childless_50)\n",
        "print (values)\n",
        "#this bit is not required but I just wanted to look at the values to double check\n",
        "\n",
        "first_divided = float(childless_1)/float(single_1)\n",
        "ninetyninth_divided = float(childless_99)/float(single_99)\n",
        "fiftieth_divided = float(childless_50)/float(single_50)\n",
        "print (first_divided)\n",
        "print (ninetyninth_divided)\n",
        "print (fiftieth_divided)"
      ],
      "metadata": {
        "id": "_UcW4rNPiYLa",
        "outputId": "c3ef4922-2059-4bbb-f8ff-97768921b1a2",
        "colab": {
          "base_uri": "https://localhost:8080/"
        }
      },
      "execution_count": 35,
      "outputs": [
        {
          "output_type": "stream",
          "name": "stdout",
          "text": [
            "('1170.44', '1746.92', '73023.80', '108990.74', '14627.95', '21832.75')\n",
            "1.4925327227367486\n",
            "1.4925372275888136\n",
            "1.4925365481834432\n"
          ]
        }
      ]
    },
    {
      "cell_type": "markdown",
      "source": [
        "When comparing the equivalised incomes of single adults and childless couples across different percentiles, a clear pattern emerges that highlights the economic implications of coupling. At the 1st percentile, single adults earn approximately £1,170.44, while childless couples have a slightly higher income of £1,746.92. This suggests that even at the lowest income levels, being part of a couple can provide a modest financial advantage. Moving to the 50th percentile, single adults have an equivalised income of £14,627.95, compared to £21,832.75 for childless couples. This significant gap indicates that coupling can lead to a more substantial economic benefit as individuals progress toward the median income bracket. Finally, at the 99th percentile, the disparity becomes even more apparent, with single adults earning £73,023.80 and childless couples earning £108,990.74. This stark difference suggests that higher incomes are more attainable for couples, reinforcing the notion that coupling may offer greater financial stability and resources. Overall, the data illustrates that coupling not only tends to enhance income across all percentiles but also suggests a potential economic advantage that could be attributed to shared resources and combined financial support. Interestingly, the figures consistently show that a childless couple makes 1.49 times more money than single adults in all three percentiles."
      ],
      "metadata": {
        "id": "o1UYoxjoidKL"
      }
    },
    {
      "cell_type": "markdown",
      "metadata": {
        "id": "ajwfDhieOgll"
      },
      "source": [
        "## Examining the Distribution\n",
        "\n",
        "Returning to the overall statistics, the 90% percentile earns less than half the top percentile (\"the 1%\"); if you're taking home over £800 as a household, you're in the top 10% of earners.\n",
        "\n",
        "How does\n",
        "1. The income of \"the 1%\" compare with the mean and median across the population, as a proportion?\n",
        "2. How does the 1% compare with the 90th percentile (the 10%)?\n",
        "3. How does the 10% compare with the median and mean?"
      ]
    },
    {
      "cell_type": "markdown",
      "metadata": {
        "id": "CzeYPivlOglm"
      },
      "source": [
        "The 1% earn about 60 times the poorest groups in society - and we've made other comparisons. But that's not the whole story. Let's look at the income graph.\n",
        "\n",
        "In pandas, we can plot this fairly easily..."
      ]
    },
    {
      "cell_type": "code",
      "execution_count": null,
      "metadata": {
        "id": "y5CBXm8HOgln",
        "outputId": "7f344d6c-1603-47e5-ed1e-fcb6970e3584"
      },
      "outputs": [
        {
          "data": {
            "text/plain": [
              "Text(0, 0.5, 'Income (Net, Equivalised) [GBP]')"
            ]
          },
          "execution_count": 50,
          "metadata": {},
          "output_type": "execute_result"
        },
        {
          "data": {
            "image/png": "[encoded data removed]",
            "text/plain": [
              "<Figure size 720x576 with 1 Axes>"
            ]
          },
          "metadata": {},
          "output_type": "display_data"
        }
      ],
      "source": [
        "income['Net equivalised household income in 2010-11, week'].plot()\n",
        "plt.title('UK Net Equivalised Income by Percentile per week, 2010-11')\n",
        "plt.xlabel('Income Percentile')\n",
        "plt.ylabel('Income (Net, Equivalised) [GBP]')"
      ]
    },
    {
      "cell_type": "markdown",
      "metadata": {
        "id": "gqLmgcUaOglp"
      },
      "source": [
        "We see a curve that is pretty linear in the middle region, but curves rapidly upwards in the higher percentile and looks more like a power law."
      ]
    },
    {
      "cell_type": "markdown",
      "metadata": {
        "id": "qkC5oqwwOglp"
      },
      "source": [
        "### Exercise: Means\n",
        "\n",
        "Where does the mean appear here? Draw in a horizontal line to show the mean using **axhline**. Show the median on the same graph. What is the meaning of the median in this context?\n",
        "\n",
        "Hint: Recall that last time we used *axvline* to highlight the mean and standard deviation by drawing vertical lines on the axis. Here, we use *axhline* to draw horizontal lines."
      ]
    },
    {
      "cell_type": "code",
      "source": [
        "income['Net equivalised household income in 2010-11, week'].plot()\n",
        "plt.title('UK Net Equivalised Income by Percentile per week, 2010-11')\n",
        "plt.xlabel('Income Percentile')\n",
        "plt.ylabel('Income (Net, Equivalised) [GBP]')\n",
        "\n",
        "mean_income = income['Net equivalised household income in 2010-11, week'].mean()\n",
        "median_income = income['Net equivalised household income in 2010-11, week'].median()\n",
        "\n",
        "# Plot horizontal lines for mean and median\n",
        "plt.axhline(mean_income, color='blue', linestyle='--', label=f'Mean: {mean_income:.2f}')\n",
        "plt.axhline(median_income, color='green', linestyle='-', label=f'Median: {median_income:.2f}')\n"
      ],
      "metadata": {
        "id": "GAkV1lPXii8C",
        "outputId": "93c333f8-7d53-4625-f9c9-8399a525a84b",
        "colab": {
          "base_uri": "https://localhost:8080/",
          "height": 740
        }
      },
      "execution_count": 36,
      "outputs": [
        {
          "output_type": "execute_result",
          "data": {
            "text/plain": [
              "<matplotlib.lines.Line2D at 0x7e01d64900a0>"
            ]
          },
          "metadata": {},
          "execution_count": 36
        },
        {
          "output_type": "display_data",
          "data": {
            "text/plain": [
              "<Figure size 1000x800 with 1 Axes>"
            ],
            "image/png": "[encoded data removed]"
          },
          "metadata": {}
        }
      ]
    },
    {
      "cell_type": "markdown",
      "metadata": {
        "id": "J7_ZodE2Oglq"
      },
      "source": [
        "### Extension: Accessing cells\n",
        "\n",
        "There are a number of ways to access elements of the dataframe: we've shown how to access columns by the [*'name of column'*] method, and rows via the .loc[*index*] method; and how we can select a range. There are also .iloc methods to select by number rather than name; you should become familiar with these on the documentation page for pandas."
      ]
    },
    {
      "cell_type": "markdown",
      "metadata": {
        "id": "KB1-kYCeOglq"
      },
      "source": [
        "## Comparing segments\n",
        "\n",
        "Earlier, we compared some summary statistics of single people and couples. Let's look at the wider curve for more than one group, now:"
      ]
    },
    {
      "cell_type": "code",
      "execution_count": null,
      "metadata": {
        "id": "WTfrHUP6Oglr",
        "outputId": "46eea849-59cd-4b48-c8f7-7763a19007ee"
      },
      "outputs": [
        {
          "ename": "TypeError",
          "evalue": "no numeric data to plot",
          "output_type": "error",
          "traceback": [
            "\u001b[0;31m---------------------------------------------------------------------------\u001b[0m",
            "\u001b[0;31mTypeError\u001b[0m                                 Traceback (most recent call last)",
            "\u001b[0;32m/var/folders/6q/jt4x0r8n1rs0kbrrqrbj61fr0000gn/T/ipykernel_20209/3992417964.py\u001b[0m in \u001b[0;36m<module>\u001b[0;34m\u001b[0m\n\u001b[1;32m      1\u001b[0m \u001b[0;31m#This is going to throw a load of errors\u001b[0m\u001b[0;34m\u001b[0m\u001b[0;34m\u001b[0m\u001b[0;34m\u001b[0m\u001b[0m\n\u001b[0;32m----> 2\u001b[0;31m \u001b[0mincome\u001b[0m\u001b[0;34m[\u001b[0m\u001b[0;34m[\u001b[0m\u001b[0;34m'Single adult'\u001b[0m\u001b[0;34m,\u001b[0m\u001b[0;34m'Lone parent, one child under 14'\u001b[0m\u001b[0;34m]\u001b[0m\u001b[0;34m]\u001b[0m\u001b[0;34m.\u001b[0m\u001b[0mplot\u001b[0m\u001b[0;34m(\u001b[0m\u001b[0;34m)\u001b[0m\u001b[0;34m\u001b[0m\u001b[0;34m\u001b[0m\u001b[0m\n\u001b[0m",
            "\u001b[0;32m~/.pyenv/versions/3.9.5/lib/python3.9/site-packages/pandas/plotting/_core.py\u001b[0m in \u001b[0;36m__call__\u001b[0;34m(self, *args, **kwargs)\u001b[0m\n\u001b[1;32m    953\u001b[0m                     \u001b[0mdata\u001b[0m\u001b[0;34m.\u001b[0m\u001b[0mcolumns\u001b[0m \u001b[0;34m=\u001b[0m \u001b[0mlabel_name\u001b[0m\u001b[0;34m\u001b[0m\u001b[0;34m\u001b[0m\u001b[0m\n\u001b[1;32m    954\u001b[0m \u001b[0;34m\u001b[0m\u001b[0m\n\u001b[0;32m--> 955\u001b[0;31m         \u001b[0;32mreturn\u001b[0m \u001b[0mplot_backend\u001b[0m\u001b[0;34m.\u001b[0m\u001b[0mplot\u001b[0m\u001b[0;34m(\u001b[0m\u001b[0mdata\u001b[0m\u001b[0;34m,\u001b[0m \u001b[0mkind\u001b[0m\u001b[0;34m=\u001b[0m\u001b[0mkind\u001b[0m\u001b[0;34m,\u001b[0m \u001b[0;34m**\u001b[0m\u001b[0mkwargs\u001b[0m\u001b[0;34m)\u001b[0m\u001b[0;34m\u001b[0m\u001b[0;34m\u001b[0m\u001b[0m\n\u001b[0m\u001b[1;32m    956\u001b[0m \u001b[0;34m\u001b[0m\u001b[0m\n\u001b[1;32m    957\u001b[0m     \u001b[0m__call__\u001b[0m\u001b[0;34m.\u001b[0m\u001b[0m__doc__\u001b[0m \u001b[0;34m=\u001b[0m \u001b[0m__doc__\u001b[0m\u001b[0;34m\u001b[0m\u001b[0;34m\u001b[0m\u001b[0m\n",
            "\u001b[0;32m~/.pyenv/versions/3.9.5/lib/python3.9/site-packages/pandas/plotting/_matplotlib/__init__.py\u001b[0m in \u001b[0;36mplot\u001b[0;34m(data, kind, **kwargs)\u001b[0m\n\u001b[1;32m     59\u001b[0m             \u001b[0mkwargs\u001b[0m\u001b[0;34m[\u001b[0m\u001b[0;34m\"ax\"\u001b[0m\u001b[0;34m]\u001b[0m \u001b[0;34m=\u001b[0m \u001b[0mgetattr\u001b[0m\u001b[0;34m(\u001b[0m\u001b[0max\u001b[0m\u001b[0;34m,\u001b[0m \u001b[0;34m\"left_ax\"\u001b[0m\u001b[0;34m,\u001b[0m \u001b[0max\u001b[0m\u001b[0;34m)\u001b[0m\u001b[0;34m\u001b[0m\u001b[0;34m\u001b[0m\u001b[0m\n\u001b[1;32m     60\u001b[0m     \u001b[0mplot_obj\u001b[0m \u001b[0;34m=\u001b[0m \u001b[0mPLOT_CLASSES\u001b[0m\u001b[0;34m[\u001b[0m\u001b[0mkind\u001b[0m\u001b[0;34m]\u001b[0m\u001b[0;34m(\u001b[0m\u001b[0mdata\u001b[0m\u001b[0;34m,\u001b[0m \u001b[0;34m**\u001b[0m\u001b[0mkwargs\u001b[0m\u001b[0;34m)\u001b[0m\u001b[0;34m\u001b[0m\u001b[0;34m\u001b[0m\u001b[0m\n\u001b[0;32m---> 61\u001b[0;31m     \u001b[0mplot_obj\u001b[0m\u001b[0;34m.\u001b[0m\u001b[0mgenerate\u001b[0m\u001b[0;34m(\u001b[0m\u001b[0;34m)\u001b[0m\u001b[0;34m\u001b[0m\u001b[0;34m\u001b[0m\u001b[0m\n\u001b[0m\u001b[1;32m     62\u001b[0m     \u001b[0mplot_obj\u001b[0m\u001b[0;34m.\u001b[0m\u001b[0mdraw\u001b[0m\u001b[0;34m(\u001b[0m\u001b[0;34m)\u001b[0m\u001b[0;34m\u001b[0m\u001b[0;34m\u001b[0m\u001b[0m\n\u001b[1;32m     63\u001b[0m     \u001b[0;32mreturn\u001b[0m \u001b[0mplot_obj\u001b[0m\u001b[0;34m.\u001b[0m\u001b[0mresult\u001b[0m\u001b[0;34m\u001b[0m\u001b[0;34m\u001b[0m\u001b[0m\n",
            "\u001b[0;32m~/.pyenv/versions/3.9.5/lib/python3.9/site-packages/pandas/plotting/_matplotlib/core.py\u001b[0m in \u001b[0;36mgenerate\u001b[0;34m(self)\u001b[0m\n\u001b[1;32m    276\u001b[0m     \u001b[0;32mdef\u001b[0m \u001b[0mgenerate\u001b[0m\u001b[0;34m(\u001b[0m\u001b[0mself\u001b[0m\u001b[0;34m)\u001b[0m\u001b[0;34m:\u001b[0m\u001b[0;34m\u001b[0m\u001b[0;34m\u001b[0m\u001b[0m\n\u001b[1;32m    277\u001b[0m         \u001b[0mself\u001b[0m\u001b[0;34m.\u001b[0m\u001b[0m_args_adjust\u001b[0m\u001b[0;34m(\u001b[0m\u001b[0;34m)\u001b[0m\u001b[0;34m\u001b[0m\u001b[0;34m\u001b[0m\u001b[0m\n\u001b[0;32m--> 278\u001b[0;31m         \u001b[0mself\u001b[0m\u001b[0;34m.\u001b[0m\u001b[0m_compute_plot_data\u001b[0m\u001b[0;34m(\u001b[0m\u001b[0;34m)\u001b[0m\u001b[0;34m\u001b[0m\u001b[0;34m\u001b[0m\u001b[0m\n\u001b[0m\u001b[1;32m    279\u001b[0m         \u001b[0mself\u001b[0m\u001b[0;34m.\u001b[0m\u001b[0m_setup_subplots\u001b[0m\u001b[0;34m(\u001b[0m\u001b[0;34m)\u001b[0m\u001b[0;34m\u001b[0m\u001b[0;34m\u001b[0m\u001b[0m\n\u001b[1;32m    280\u001b[0m         \u001b[0mself\u001b[0m\u001b[0;34m.\u001b[0m\u001b[0m_make_plot\u001b[0m\u001b[0;34m(\u001b[0m\u001b[0;34m)\u001b[0m\u001b[0;34m\u001b[0m\u001b[0;34m\u001b[0m\u001b[0m\n",
            "\u001b[0;32m~/.pyenv/versions/3.9.5/lib/python3.9/site-packages/pandas/plotting/_matplotlib/core.py\u001b[0m in \u001b[0;36m_compute_plot_data\u001b[0;34m(self)\u001b[0m\n\u001b[1;32m    439\u001b[0m         \u001b[0;31m# no non-numeric frames or series allowed\u001b[0m\u001b[0;34m\u001b[0m\u001b[0;34m\u001b[0m\u001b[0;34m\u001b[0m\u001b[0m\n\u001b[1;32m    440\u001b[0m         \u001b[0;32mif\u001b[0m \u001b[0mis_empty\u001b[0m\u001b[0;34m:\u001b[0m\u001b[0;34m\u001b[0m\u001b[0;34m\u001b[0m\u001b[0m\n\u001b[0;32m--> 441\u001b[0;31m             \u001b[0;32mraise\u001b[0m \u001b[0mTypeError\u001b[0m\u001b[0;34m(\u001b[0m\u001b[0;34m\"no numeric data to plot\"\u001b[0m\u001b[0;34m)\u001b[0m\u001b[0;34m\u001b[0m\u001b[0;34m\u001b[0m\u001b[0m\n\u001b[0m\u001b[1;32m    442\u001b[0m \u001b[0;34m\u001b[0m\u001b[0m\n\u001b[1;32m    443\u001b[0m         \u001b[0mself\u001b[0m\u001b[0;34m.\u001b[0m\u001b[0mdata\u001b[0m \u001b[0;34m=\u001b[0m \u001b[0mnumeric_data\u001b[0m\u001b[0;34m.\u001b[0m\u001b[0mapply\u001b[0m\u001b[0;34m(\u001b[0m\u001b[0mself\u001b[0m\u001b[0;34m.\u001b[0m\u001b[0m_convert_to_ndarray\u001b[0m\u001b[0;34m)\u001b[0m\u001b[0;34m\u001b[0m\u001b[0;34m\u001b[0m\u001b[0m\n",
            "\u001b[0;31mTypeError\u001b[0m: no numeric data to plot"
          ]
        }
      ],
      "source": [
        "#This is going to throw a load of errors\n",
        "income[['Single adult','Lone parent, one child under 14']].plot()"
      ]
    },
    {
      "cell_type": "markdown",
      "metadata": {
        "id": "vFLPCI8hOglt"
      },
      "source": [
        "## Warning\n",
        "\n",
        "This isn't looking good. There's a load of text and no graph. If you've not seen this before, it's an error - something has gone wrong. Generally, if we look at the **final** line, it should tell us what's wrong, in this case there's \"no numeric data to plot\", which is weird, because we've seen the data and have even plotted some of it."
      ]
    },
    {
      "cell_type": "markdown",
      "metadata": {
        "id": "b83Hwg61Oglu"
      },
      "source": [
        "## Messy Data\n",
        "\n",
        "DataFrames, as we are starting to see, give us the chance to plot, chop, slice and data to help us make sense of it. Here, we will create a **new** DataFrame to take only two columns of data, and get rid of any blank cells and any cells which are not being read as numbers - normally a sign of a missing value or a non-numerical character. Why could this be happening? It could be\n",
        "\n",
        "- due to blank spaces in the text file\n",
        "\n",
        "- due to letters where there should be numbers\n",
        "\n",
        "- due to characters (\",\", \"-\", etc) that shouldn't really be there\n",
        "\n",
        "In general, there will be some detective work required to figure out what's wrong in our text file. Your best bet is sometimes to open up the data in a text editor, like I've done here:"
      ]
    },
    {
      "cell_type": "code",
      "execution_count": null,
      "metadata": {
        "id": "fLWfyIclOglu",
        "outputId": "892d9965-b2f3-49f6-81f1-34b04f4119a5"
      },
      "outputs": [
        {
          "data": {
            "image/png": "[encoded data removed]",
            "text/plain": [
              "<IPython.core.display.Image object>"
            ]
          },
          "execution_count": 52,
          "metadata": {},
          "output_type": "execute_result"
        }
      ],
      "source": [
        "from IPython.display import Image\n",
        "\n",
        "data_path = \"https://s3.eu-west-2.amazonaws.com/qm2/wk2/data.png\"\n",
        "Image(data_path)"
      ]
    },
    {
      "cell_type": "markdown",
      "metadata": {
        "id": "zBz1Jv4kOglw"
      },
      "source": [
        "That's a screenshot of our datafile, opened up in a text editor. As we can see, these numbers are separated by commas and surrounded by quotation marks - this is normal, and what .csv files are supposed to look like. However, there are a lot of commas within the numbers - which makes it easier for people to read, but confuses software. Luckily, Python has a method for dealing with this - the \"replace\" method.\n",
        "\n",
        "Unfortunately, this dataframe is quite messy, so I'm going to have to extract just the columns of data I'm interested in to make it work. I'll do that by creating a new dataframe:"
      ]
    },
    {
      "cell_type": "markdown",
      "metadata": {
        "id": "JBxuM0aKOglx"
      },
      "source": [
        "## Example: Cleaning data"
      ]
    },
    {
      "cell_type": "code",
      "execution_count": null,
      "metadata": {
        "id": "lzCSbkcKOglx",
        "outputId": "9de555b2-4784-4dca-fbf6-b0a3fce6066c"
      },
      "outputs": [
        {
          "data": {
            "text/html": [
              "<div>\n",
              "<style scoped>\n",
              "    .dataframe tbody tr th:only-of-type {\n",
              "        vertical-align: middle;\n",
              "    }\n",
              "\n",
              "    .dataframe tbody tr th {\n",
              "        vertical-align: top;\n",
              "    }\n",
              "\n",
              "    .dataframe thead th {\n",
              "        text-align: right;\n",
              "    }\n",
              "</style>\n",
              "<table border=\"1\" class=\"dataframe\">\n",
              "  <thead>\n",
              "    <tr style=\"text-align: right;\">\n",
              "      <th></th>\n",
              "      <th>Childless couple, annual income</th>\n",
              "      <th>Couple, two children under 14</th>\n",
              "    </tr>\n",
              "    <tr>\n",
              "      <th>Percentile Point</th>\n",
              "      <th></th>\n",
              "      <th></th>\n",
              "    </tr>\n",
              "  </thead>\n",
              "  <tbody>\n",
              "    <tr>\n",
              "      <th>1</th>\n",
              "      <td>1,746.92</td>\n",
              "      <td>2,445.69</td>\n",
              "    </tr>\n",
              "    <tr>\n",
              "      <th>2</th>\n",
              "      <td>5,141.01</td>\n",
              "      <td>7,197.41</td>\n",
              "    </tr>\n",
              "    <tr>\n",
              "      <th>3</th>\n",
              "      <td>6,703.11</td>\n",
              "      <td>9,384.36</td>\n",
              "    </tr>\n",
              "    <tr>\n",
              "      <th>4</th>\n",
              "      <td>7,875.75</td>\n",
              "      <td>11,026.05</td>\n",
              "    </tr>\n",
              "    <tr>\n",
              "      <th>5</th>\n",
              "      <td>8,671.91</td>\n",
              "      <td>12,140.68</td>\n",
              "    </tr>\n",
              "  </tbody>\n",
              "</table>\n",
              "</div>"
            ],
            "text/plain": [
              "                 Childless couple, annual income Couple, two children under 14\n",
              "Percentile Point                                                              \n",
              "1                                       1,746.92                      2,445.69\n",
              "2                                       5,141.01                      7,197.41\n",
              "3                                       6,703.11                      9,384.36\n",
              "4                                       7,875.75                     11,026.05\n",
              "5                                       8,671.91                     12,140.68"
            ]
          },
          "execution_count": 56,
          "metadata": {},
          "output_type": "execute_result"
        }
      ],
      "source": [
        "clean = income[['Childless couple, annual income','Couple, two children under 14']]\n",
        "clean.head()"
      ]
    },
    {
      "cell_type": "markdown",
      "metadata": {
        "id": "M8eg6tsDOglz"
      },
      "source": [
        "We see those pesky commas. Now we can get on with cleaning up the data:"
      ]
    },
    {
      "cell_type": "code",
      "execution_count": null,
      "metadata": {
        "id": "8YAEBL4aOgl0",
        "outputId": "ada62179-5780-4dd0-f12f-22047a966712"
      },
      "outputs": [
        {
          "data": {
            "text/html": [
              "<div>\n",
              "<style scoped>\n",
              "    .dataframe tbody tr th:only-of-type {\n",
              "        vertical-align: middle;\n",
              "    }\n",
              "\n",
              "    .dataframe tbody tr th {\n",
              "        vertical-align: top;\n",
              "    }\n",
              "\n",
              "    .dataframe thead th {\n",
              "        text-align: right;\n",
              "    }\n",
              "</style>\n",
              "<table border=\"1\" class=\"dataframe\">\n",
              "  <thead>\n",
              "    <tr style=\"text-align: right;\">\n",
              "      <th></th>\n",
              "      <th>Childless couple, annual income</th>\n",
              "      <th>Couple, two children under 14</th>\n",
              "    </tr>\n",
              "    <tr>\n",
              "      <th>Percentile Point</th>\n",
              "      <th></th>\n",
              "      <th></th>\n",
              "    </tr>\n",
              "  </thead>\n",
              "  <tbody>\n",
              "    <tr>\n",
              "      <th>1</th>\n",
              "      <td>1746.92</td>\n",
              "      <td>2445.69</td>\n",
              "    </tr>\n",
              "    <tr>\n",
              "      <th>2</th>\n",
              "      <td>5141.01</td>\n",
              "      <td>7197.41</td>\n",
              "    </tr>\n",
              "    <tr>\n",
              "      <th>3</th>\n",
              "      <td>6703.11</td>\n",
              "      <td>9384.36</td>\n",
              "    </tr>\n",
              "    <tr>\n",
              "      <th>4</th>\n",
              "      <td>7875.75</td>\n",
              "      <td>11026.05</td>\n",
              "    </tr>\n",
              "    <tr>\n",
              "      <th>5</th>\n",
              "      <td>8671.91</td>\n",
              "      <td>12140.68</td>\n",
              "    </tr>\n",
              "  </tbody>\n",
              "</table>\n",
              "</div>"
            ],
            "text/plain": [
              "                  Childless couple, annual income  \\\n",
              "Percentile Point                                    \n",
              "1                                         1746.92   \n",
              "2                                         5141.01   \n",
              "3                                         6703.11   \n",
              "4                                         7875.75   \n",
              "5                                         8671.91   \n",
              "\n",
              "                  Couple, two children under 14  \n",
              "Percentile Point                                 \n",
              "1                                       2445.69  \n",
              "2                                       7197.41  \n",
              "3                                       9384.36  \n",
              "4                                      11026.05  \n",
              "5                                      12140.68  "
            ]
          },
          "execution_count": 61,
          "metadata": {},
          "output_type": "execute_result"
        }
      ],
      "source": [
        "clean=clean.replace(',', '', regex=True)\n",
        "\n",
        "# In addition, missing values are sometimes written as '-', in order for Python to understand that it is just a missing numerical\n",
        "# value, all '-' need to be replaced with 'NaN'.\n",
        "clean = clean.replace('-', 'NaN', regex=True).astype('float')\n",
        "clean.head()"
      ]
    },
    {
      "cell_type": "markdown",
      "metadata": {
        "id": "5VNc0tutOgl2"
      },
      "source": [
        "**Extension**: \"**Regex**\" refers to \"**Reg**ular **Ex**pression\", which is a way of replacing and cleaning text. It's a bit beyond the scope of this class, but worth looking into if you're interested in programming more widely."
      ]
    },
    {
      "cell_type": "markdown",
      "metadata": {
        "id": "Z0dJN0OjOgl2"
      },
      "source": [
        "This seems to have done the job. We've also put a line in the code to get rid of dashes - a way that data collectors will sometimes represent missing data. Now let's plot this."
      ]
    },
    {
      "cell_type": "markdown",
      "metadata": {
        "id": "7DPJOfOnOgl2"
      },
      "source": [
        "## Asking more questions of the data\n",
        "For me, this data starts to beg further questions. How would we answer these?\n",
        "\n",
        "- If the top 20% of income shows such a sharp increase, how do we know that there isn't a similar uptick *within* the 1%? We've already seen that the mean of the dataset as a whole is much less than the half the maximum category (it's 25% of the maximum). What if that's true within the 1%, and £2,000/week as a fraction of the 0.1%, or the 0.01%?\n",
        "\n",
        "- How does this break down for gender, or educational background, or other factors like ethnicity or country of origin?\n",
        "\n",
        "- Which parts of the income curve show greater gaps between these subgroups and what might it say about the underlying causal mechanisms?\n"
      ]
    },
    {
      "cell_type": "code",
      "execution_count": null,
      "metadata": {
        "id": "GPSVukHaOgl3",
        "outputId": "3bd73e1a-87cb-4a3b-c9dc-dc90e07f9471"
      },
      "outputs": [
        {
          "data": {
            "text/plain": [
              "Text(0, 0.5, 'Income Per Week [GBP]')"
            ]
          },
          "execution_count": 62,
          "metadata": {},
          "output_type": "execute_result"
        },
        {
          "data": {
            "image/png": "[encoded data removed]",
            "text/plain": [
              "<Figure size 720x576 with 1 Axes>"
            ]
          },
          "metadata": {},
          "output_type": "display_data"
        }
      ],
      "source": [
        "clean.plot()\n",
        "plt.title('A Modest Proposal: The fiscal benefits of childbirth')\n",
        "plt.xlabel('Percentile')\n",
        "plt.ylabel('Income Per Week [GBP]')"
      ]
    },
    {
      "cell_type": "markdown",
      "metadata": {
        "id": "4TFQznjUOgl5"
      },
      "source": [
        "## Exercise:\n",
        "\n",
        "Previously, we'd examined income gaps between single people and couples (how very romantic). Repeat the above exercise (cleaning and plotting income data) for the columns we used above for single people and childless couples. Reflect and comment on the differences."
      ]
    },
    {
      "cell_type": "code",
      "execution_count": 37,
      "metadata": {
        "id": "hGlvHC7iOgl5",
        "outputId": "bb090875-6a62-4888-df96-d7b7bd77ee78",
        "colab": {
          "base_uri": "https://localhost:8080/",
          "height": 717
        }
      },
      "outputs": [
        {
          "output_type": "execute_result",
          "data": {
            "text/plain": [
              "<Axes: xlabel='Percentile Point'>"
            ]
          },
          "metadata": {},
          "execution_count": 37
        },
        {
          "output_type": "display_data",
          "data": {
            "text/plain": [
              "<Figure size 1000x800 with 1 Axes>"
            ],
            "image/png": "[encoded data removed]"
          },
          "metadata": {}
        }
      ],
      "source": [
        "singles_and_childless = income[[\"Single adult\", \"Childless couple, annual income\"]]\n",
        "\n",
        "singles_and_childless = singles_and_childless.replace(',', '', regex=True)\n",
        "\n",
        "singles_and_childless = singles_and_childless.replace('-', 'NaN', regex=True).astype('float')\n",
        "singles_and_childless.plot()"
      ]
    },
    {
      "cell_type": "code",
      "execution_count": null,
      "metadata": {
        "id": "XtbGVYEkOgl8"
      },
      "outputs": [],
      "source": [
        "#the two catagories start at the same then began to seperate by more and more with couples earning more figures on average untill about the 90th percentile where the singles start to close the gap"
      ]
    },
    {
      "cell_type": "markdown",
      "metadata": {
        "id": "V9fRF22DOgl-"
      },
      "source": [
        "So far, we've dealt with selecting data in a particular row of column by index or label. What if we now want to filter the data by *value*? For example, let's say I want to see the data for all Childless couples who earn more than 50,000 (net equivalised) pounds every year. This looks like:"
      ]
    },
    {
      "cell_type": "code",
      "execution_count": null,
      "metadata": {
        "id": "aa1kaQwROgl_"
      },
      "outputs": [],
      "source": [
        "clean = income[['Childless couple, annual income','Couple, two children under 14']]\n",
        "clean = clean.replace(',', '', regex=True)\n",
        "clean = clean.replace('-', 'NaN', regex=True).astype('float')\n",
        "clean[clean['Childless couple, annual income']>50000]"
      ]
    },
    {
      "cell_type": "markdown",
      "metadata": {
        "id": "li_efWEHOgmA"
      },
      "source": [
        "The key line of code for selection is:\n",
        "\n",
        "```python\n",
        "clean[clean['Childless couple, annual income']>50000]\n",
        "```\n",
        "\n",
        "Let's break this down: we're used to using *dataframe*[*some selection*] from earlier. Here \"some selection\" is\n",
        "\n",
        "\n",
        "```python\n",
        "clean['Childless couple, annual income']>50000\n",
        "```\n",
        "\n",
        "In other words, this command is returning a set of indices where that statement is true. We can see this explicitly:"
      ]
    },
    {
      "cell_type": "code",
      "execution_count": null,
      "metadata": {
        "id": "0DDpwa5wOgmB"
      },
      "outputs": [],
      "source": [
        "clean['Childless couple, annual income']>50000"
      ]
    },
    {
      "cell_type": "markdown",
      "metadata": {
        "id": "voVyBM4dOgmD"
      },
      "source": [
        "So python is picking the values where this statement is true - i.e. where the 'Childless couple...' column has values greater than 50000. Then this selection is passed to the dataframe, and the dataframe shows the correct rows."
      ]
    },
    {
      "cell_type": "markdown",
      "metadata": {
        "id": "q6E0bA_1OgmD"
      },
      "source": [
        "We won't dwell on comparative operative, here we've used \">\" to mean \"is greater than\"; you can also use:\n",
        "\n",
        "- == to mean 'is equal to' [why the double equals?]\n",
        "- <> or != to mean 'is not equal to'\n",
        "- < to mean 'is less than'\n",
        "- the symbol >= to mean 'is greater than or equal to'\n",
        "- <= to mean 'is less than or equal to'\n"
      ]
    },
    {
      "cell_type": "markdown",
      "metadata": {
        "id": "jlUpSnksOgmE"
      },
      "source": [
        "## Exercise\n",
        "On an approporiately labelled graph, plot the incomes of all single adults whose net equivalised income is less than or equal to £10,000. What proportion of the population is this?"
      ]
    },
    {
      "cell_type": "code",
      "execution_count": 38,
      "metadata": {
        "id": "Bg_cvi27OgmE",
        "outputId": "565db1e1-f5a1-4803-9ac8-8fab3e7eb43f",
        "colab": {
          "base_uri": "https://localhost:8080/",
          "height": 235
        }
      },
      "outputs": [
        {
          "output_type": "execute_result",
          "data": {
            "text/plain": [
              "                  Single adult\n",
              "Percentile Point              \n",
              "1                      1170.44\n",
              "2                      3444.48\n",
              "3                      4491.09\n",
              "4                      5276.75\n",
              "5                      5810.18"
            ],
            "text/html": [
              "\n",
              "  <div id=\"df-2be15232-8b44-400f-ad88-1324e124886d\" class=\"colab-df-container\">\n",
              "    <div>\n",
              "<style scoped>\n",
              "    .dataframe tbody tr th:only-of-type {\n",
              "        vertical-align: middle;\n",
              "    }\n",
              "\n",
              "    .dataframe tbody tr th {\n",
              "        vertical-align: top;\n",
              "    }\n",
              "\n",
              "    .dataframe thead th {\n",
              "        text-align: right;\n",
              "    }\n",
              "</style>\n",
              "<table border=\"1\" class=\"dataframe\">\n",
              "  <thead>\n",
              "    <tr style=\"text-align: right;\">\n",
              "      <th></th>\n",
              "      <th>Single adult</th>\n",
              "    </tr>\n",
              "    <tr>\n",
              "      <th>Percentile Point</th>\n",
              "      <th></th>\n",
              "    </tr>\n",
              "  </thead>\n",
              "  <tbody>\n",
              "    <tr>\n",
              "      <th>1</th>\n",
              "      <td>1170.44</td>\n",
              "    </tr>\n",
              "    <tr>\n",
              "      <th>2</th>\n",
              "      <td>3444.48</td>\n",
              "    </tr>\n",
              "    <tr>\n",
              "      <th>3</th>\n",
              "      <td>4491.09</td>\n",
              "    </tr>\n",
              "    <tr>\n",
              "      <th>4</th>\n",
              "      <td>5276.75</td>\n",
              "    </tr>\n",
              "    <tr>\n",
              "      <th>5</th>\n",
              "      <td>5810.18</td>\n",
              "    </tr>\n",
              "  </tbody>\n",
              "</table>\n",
              "</div>\n",
              "    <div class=\"colab-df-buttons\">\n",
              "\n",
              "  <div class=\"colab-df-container\">\n",
              "    <button class=\"colab-df-convert\" onclick=\"convertToInteractive('df-2be15232-8b44-400f-ad88-1324e124886d')\"\n",
              "            title=\"Convert this dataframe to an interactive table.\"\n",
              "            style=\"display:none;\">\n",
              "\n",
              "  <svg xmlns=\"http://www.w3.org/2000/svg\" height=\"24px\" viewBox=\"0 -960 960 960\">\n",
              "    <path d=\"M120-120v-720h720v720H120Zm60-500h600v-160H180v160Zm220 220h160v-160H400v160Zm0 220h160v-160H400v160ZM180-400h160v-160H180v160Zm440 0h160v-160H620v160ZM180-180h160v-160H180v160Zm440 0h160v-160H620v160Z\"/>\n",
              "  </svg>\n",
              "    </button>\n",
              "\n",
              "  <style>\n",
              "    .colab-df-container {\n",
              "      display:flex;\n",
              "      gap: 12px;\n",
              "    }\n",
              "\n",
              "    .colab-df-convert {\n",
              "      background-color: #E8F0FE;\n",
              "      border: none;\n",
              "      border-radius: 50%;\n",
              "      cursor: pointer;\n",
              "      display: none;\n",
              "      fill: #1967D2;\n",
              "      height: 32px;\n",
              "      padding: 0 0 0 0;\n",
              "      width: 32px;\n",
              "    }\n",
              "\n",
              "    .colab-df-convert:hover {\n",
              "      background-color: #E2EBFA;\n",
              "      box-shadow: 0px 1px 2px rgba(60, 64, 67, 0.3), 0px 1px 3px 1px rgba(60, 64, 67, 0.15);\n",
              "      fill: #174EA6;\n",
              "    }\n",
              "\n",
              "    .colab-df-buttons div {\n",
              "      margin-bottom: 4px;\n",
              "    }\n",
              "\n",
              "    [theme=dark] .colab-df-convert {\n",
              "      background-color: #3B4455;\n",
              "      fill: #D2E3FC;\n",
              "    }\n",
              "\n",
              "    [theme=dark] .colab-df-convert:hover {\n",
              "      background-color: #434B5C;\n",
              "      box-shadow: 0px 1px 3px 1px rgba(0, 0, 0, 0.15);\n",
              "      filter: drop-shadow(0px 1px 2px rgba(0, 0, 0, 0.3));\n",
              "      fill: #FFFFFF;\n",
              "    }\n",
              "  </style>\n",
              "\n",
              "    <script>\n",
              "      const buttonEl =\n",
              "        document.querySelector('#df-2be15232-8b44-400f-ad88-1324e124886d button.colab-df-convert');\n",
              "      buttonEl.style.display =\n",
              "        google.colab.kernel.accessAllowed ? 'block' : 'none';\n",
              "\n",
              "      async function convertToInteractive(key) {\n",
              "        const element = document.querySelector('#df-2be15232-8b44-400f-ad88-1324e124886d');\n",
              "        const dataTable =\n",
              "          await google.colab.kernel.invokeFunction('convertToInteractive',\n",
              "                                                    [key], {});\n",
              "        if (!dataTable) return;\n",
              "\n",
              "        const docLinkHtml = 'Like what you see? Visit the ' +\n",
              "          '<a target=\"_blank\" href=https://colab.research.google.com/notebooks/data_table.ipynb>data table notebook</a>'\n",
              "          + ' to learn more about interactive tables.';\n",
              "        element.innerHTML = '';\n",
              "        dataTable['output_type'] = 'display_data';\n",
              "        await google.colab.output.renderOutput(dataTable, element);\n",
              "        const docLink = document.createElement('div');\n",
              "        docLink.innerHTML = docLinkHtml;\n",
              "        element.appendChild(docLink);\n",
              "      }\n",
              "    </script>\n",
              "  </div>\n",
              "\n",
              "\n",
              "<div id=\"df-c12777d5-aeb9-4f24-a19a-d8b869d582cc\">\n",
              "  <button class=\"colab-df-quickchart\" onclick=\"quickchart('df-c12777d5-aeb9-4f24-a19a-d8b869d582cc')\"\n",
              "            title=\"Suggest charts\"\n",
              "            style=\"display:none;\">\n",
              "\n",
              "<svg xmlns=\"http://www.w3.org/2000/svg\" height=\"24px\"viewBox=\"0 0 24 24\"\n",
              "     width=\"24px\">\n",
              "    <g>\n",
              "        <path d=\"M19 3H5c-1.1 0-2 .9-2 2v14c0 1.1.9 2 2 2h14c1.1 0 2-.9 2-2V5c0-1.1-.9-2-2-2zM9 17H7v-7h2v7zm4 0h-2V7h2v10zm4 0h-2v-4h2v4z\"/>\n",
              "    </g>\n",
              "</svg>\n",
              "  </button>\n",
              "\n",
              "<style>\n",
              "  .colab-df-quickchart {\n",
              "      --bg-color: #E8F0FE;\n",
              "      --fill-color: #1967D2;\n",
              "      --hover-bg-color: #E2EBFA;\n",
              "      --hover-fill-color: #174EA6;\n",
              "      --disabled-fill-color: #AAA;\n",
              "      --disabled-bg-color: #DDD;\n",
              "  }\n",
              "\n",
              "  [theme=dark] .colab-df-quickchart {\n",
              "      --bg-color: #3B4455;\n",
              "      --fill-color: #D2E3FC;\n",
              "      --hover-bg-color: #434B5C;\n",
              "      --hover-fill-color: #FFFFFF;\n",
              "      --disabled-bg-color: #3B4455;\n",
              "      --disabled-fill-color: #666;\n",
              "  }\n",
              "\n",
              "  .colab-df-quickchart {\n",
              "    background-color: var(--bg-color);\n",
              "    border: none;\n",
              "    border-radius: 50%;\n",
              "    cursor: pointer;\n",
              "    display: none;\n",
              "    fill: var(--fill-color);\n",
              "    height: 32px;\n",
              "    padding: 0;\n",
              "    width: 32px;\n",
              "  }\n",
              "\n",
              "  .colab-df-quickchart:hover {\n",
              "    background-color: var(--hover-bg-color);\n",
              "    box-shadow: 0 1px 2px rgba(60, 64, 67, 0.3), 0 1px 3px 1px rgba(60, 64, 67, 0.15);\n",
              "    fill: var(--button-hover-fill-color);\n",
              "  }\n",
              "\n",
              "  .colab-df-quickchart-complete:disabled,\n",
              "  .colab-df-quickchart-complete:disabled:hover {\n",
              "    background-color: var(--disabled-bg-color);\n",
              "    fill: var(--disabled-fill-color);\n",
              "    box-shadow: none;\n",
              "  }\n",
              "\n",
              "  .colab-df-spinner {\n",
              "    border: 2px solid var(--fill-color);\n",
              "    border-color: transparent;\n",
              "    border-bottom-color: var(--fill-color);\n",
              "    animation:\n",
              "      spin 1s steps(1) infinite;\n",
              "  }\n",
              "\n",
              "  @keyframes spin {\n",
              "    0% {\n",
              "      border-color: transparent;\n",
              "      border-bottom-color: var(--fill-color);\n",
              "      border-left-color: var(--fill-color);\n",
              "    }\n",
              "    20% {\n",
              "      border-color: transparent;\n",
              "      border-left-color: var(--fill-color);\n",
              "      border-top-color: var(--fill-color);\n",
              "    }\n",
              "    30% {\n",
              "      border-color: transparent;\n",
              "      border-left-color: var(--fill-color);\n",
              "      border-top-color: var(--fill-color);\n",
              "      border-right-color: var(--fill-color);\n",
              "    }\n",
              "    40% {\n",
              "      border-color: transparent;\n",
              "      border-right-color: var(--fill-color);\n",
              "      border-top-color: var(--fill-color);\n",
              "    }\n",
              "    60% {\n",
              "      border-color: transparent;\n",
              "      border-right-color: var(--fill-color);\n",
              "    }\n",
              "    80% {\n",
              "      border-color: transparent;\n",
              "      border-right-color: var(--fill-color);\n",
              "      border-bottom-color: var(--fill-color);\n",
              "    }\n",
              "    90% {\n",
              "      border-color: transparent;\n",
              "      border-bottom-color: var(--fill-color);\n",
              "    }\n",
              "  }\n",
              "</style>\n",
              "\n",
              "  <script>\n",
              "    async function quickchart(key) {\n",
              "      const quickchartButtonEl =\n",
              "        document.querySelector('#' + key + ' button');\n",
              "      quickchartButtonEl.disabled = true;  // To prevent multiple clicks.\n",
              "      quickchartButtonEl.classList.add('colab-df-spinner');\n",
              "      try {\n",
              "        const charts = await google.colab.kernel.invokeFunction(\n",
              "            'suggestCharts', [key], {});\n",
              "      } catch (error) {\n",
              "        console.error('Error during call to suggestCharts:', error);\n",
              "      }\n",
              "      quickchartButtonEl.classList.remove('colab-df-spinner');\n",
              "      quickchartButtonEl.classList.add('colab-df-quickchart-complete');\n",
              "    }\n",
              "    (() => {\n",
              "      let quickchartButtonEl =\n",
              "        document.querySelector('#df-c12777d5-aeb9-4f24-a19a-d8b869d582cc button');\n",
              "      quickchartButtonEl.style.display =\n",
              "        google.colab.kernel.accessAllowed ? 'block' : 'none';\n",
              "    })();\n",
              "  </script>\n",
              "</div>\n",
              "\n",
              "    </div>\n",
              "  </div>\n"
            ],
            "application/vnd.google.colaboratory.intrinsic+json": {
              "type": "dataframe",
              "variable_name": "single",
              "summary": "{\n  \"name\": \"single\",\n  \"rows\": 99,\n  \"fields\": [\n    {\n      \"column\": \"Percentile Point\",\n      \"properties\": {\n        \"dtype\": \"number\",\n        \"std\": 28,\n        \"min\": 1,\n        \"max\": 99,\n        \"num_unique_values\": 99,\n        \"samples\": [\n          63,\n          41,\n          96\n        ],\n        \"semantic_type\": \"\",\n        \"description\": \"\"\n      }\n    },\n    {\n      \"column\": \"Single adult\",\n      \"properties\": {\n        \"dtype\": \"number\",\n        \"std\": 10696.868419300397,\n        \"min\": 1170.44,\n        \"max\": 73023.8,\n        \"num_unique_values\": 99,\n        \"samples\": [\n          17459.17,\n          12964.31,\n          41028.91\n        ],\n        \"semantic_type\": \"\",\n        \"description\": \"\"\n      }\n    }\n  ]\n}"
            }
          },
          "metadata": {},
          "execution_count": 38
        }
      ],
      "source": [
        "single = income[[\"Single adult\"]]\n",
        "single = single.replace(',', '', regex=True)\n",
        "single = single.replace('-', 'NaN', regex=True).astype('float')\n",
        "\n",
        "single[single[\"Single adult\"]<=10000]\n",
        "single.head()"
      ]
    },
    {
      "cell_type": "markdown",
      "metadata": {
        "id": "ZrWfU29ziLoS"
      },
      "source": [
        "# Extension: Web Scraping\n",
        "\n",
        "In this example, we've been working with a .csv file that contains all the data we want. That's not always the case. Let's say we're interested in getting the data from a table on a website. Websites are built using HTML code, so what we need to figure out how to look inside the website's code and pull out the data we want. Luckily, pandas has a built in function that can automatically recognize HTML tables in websites and turn them into dataframes.\n",
        "\n",
        "Let's start with the [Netflix Top 10](https://top10.netflix.com/) website. Click on the link and have a look around. You'll notice two tables: the first showing the top 10 films this week, and the second (farther down) showing the most popular filsms based on their first 28 days on netflix.\n",
        "\n",
        "We can download both of these tables into python using one pandas function: read_html"
      ]
    },
    {
      "cell_type": "code",
      "execution_count": 39,
      "metadata": {
        "id": "10yBBXnKiLoS",
        "outputId": "fb3d345c-95b5-441f-a307-79a1d1025d28",
        "colab": {
          "base_uri": "https://localhost:8080/"
        }
      },
      "outputs": [
        {
          "output_type": "stream",
          "name": "stdout",
          "text": [
            "[                                   Ranking  Unnamed: 1     Views Runtime  \\\n",
            "0                      01Our Little Secret           2  23500000    1:41   \n",
            "1                         02That Christmas           1  18300000    1:36   \n",
            "2                  03Dr. Seuss' The Grinch           8  12900000    1:26   \n",
            "3                                   04Mary           1  11400000    1:52   \n",
            "4         05Twas the Text Before Christmas           1   8400000    1:24   \n",
            "5                           06Subservience           1   7100000    1:45   \n",
            "6                             07Spellbound           3   5300000    1:50   \n",
            "7             08A Royal Date for Christmas           1   5300000    1:28   \n",
            "8         09How the Grinch Stole Christmas           5   5100000    1:44   \n",
            "9  10Hotel Transylvania 3: Summer Vacation           6   4900000    1:37   \n",
            "\n",
            "   Hours Viewed  \n",
            "0      39500000  \n",
            "1      29200000  \n",
            "2      18500000  \n",
            "3      21200000  \n",
            "4      11800000  \n",
            "5      12500000  \n",
            "6       9800000  \n",
            "7       7800000  \n",
            "8       8800000  \n",
            "9       7900000  ]\n"
          ]
        }
      ],
      "source": [
        "url='https://top10.netflix.com/'\n",
        "\n",
        "tables=pandas.read_html(url)\n",
        "\n",
        "print(tables)"
      ]
    },
    {
      "cell_type": "markdown",
      "metadata": {
        "id": "lSwY_B0PiLoS"
      },
      "source": [
        "When we print the results of what was scraped, it's pretty ugly. One of the reasons is that the `tables` variable is actually a *list* of dataframes. Because there were two tables on our website, `read_html` has returned both of those tables and put them in a list. let's save the first table as a new dataframe called `top10` and have a closer look."
      ]
    },
    {
      "cell_type": "code",
      "execution_count": 40,
      "metadata": {
        "id": "Yww2PojbiLoS",
        "outputId": "33a4ef6b-e12a-4d51-9dc5-bf7479853078",
        "colab": {
          "base_uri": "https://localhost:8080/",
          "height": 359
        }
      },
      "outputs": [
        {
          "output_type": "execute_result",
          "data": {
            "text/plain": [
              "                                   Ranking  Unnamed: 1     Views Runtime  \\\n",
              "0                      01Our Little Secret           2  23500000    1:41   \n",
              "1                         02That Christmas           1  18300000    1:36   \n",
              "2                  03Dr. Seuss' The Grinch           8  12900000    1:26   \n",
              "3                                   04Mary           1  11400000    1:52   \n",
              "4         05Twas the Text Before Christmas           1   8400000    1:24   \n",
              "5                           06Subservience           1   7100000    1:45   \n",
              "6                             07Spellbound           3   5300000    1:50   \n",
              "7             08A Royal Date for Christmas           1   5300000    1:28   \n",
              "8         09How the Grinch Stole Christmas           5   5100000    1:44   \n",
              "9  10Hotel Transylvania 3: Summer Vacation           6   4900000    1:37   \n",
              "\n",
              "   Hours Viewed  \n",
              "0      39500000  \n",
              "1      29200000  \n",
              "2      18500000  \n",
              "3      21200000  \n",
              "4      11800000  \n",
              "5      12500000  \n",
              "6       9800000  \n",
              "7       7800000  \n",
              "8       8800000  \n",
              "9       7900000  "
            ],
            "text/html": [
              "\n",
              "  <div id=\"df-54724f6e-e92c-4946-a252-f6d7d36769b1\" class=\"colab-df-container\">\n",
              "    <div>\n",
              "<style scoped>\n",
              "    .dataframe tbody tr th:only-of-type {\n",
              "        vertical-align: middle;\n",
              "    }\n",
              "\n",
              "    .dataframe tbody tr th {\n",
              "        vertical-align: top;\n",
              "    }\n",
              "\n",
              "    .dataframe thead th {\n",
              "        text-align: right;\n",
              "    }\n",
              "</style>\n",
              "<table border=\"1\" class=\"dataframe\">\n",
              "  <thead>\n",
              "    <tr style=\"text-align: right;\">\n",
              "      <th></th>\n",
              "      <th>Ranking</th>\n",
              "      <th>Unnamed: 1</th>\n",
              "      <th>Views</th>\n",
              "      <th>Runtime</th>\n",
              "      <th>Hours Viewed</th>\n",
              "    </tr>\n",
              "  </thead>\n",
              "  <tbody>\n",
              "    <tr>\n",
              "      <th>0</th>\n",
              "      <td>01Our Little Secret</td>\n",
              "      <td>2</td>\n",
              "      <td>23500000</td>\n",
              "      <td>1:41</td>\n",
              "      <td>39500000</td>\n",
              "    </tr>\n",
              "    <tr>\n",
              "      <th>1</th>\n",
              "      <td>02That Christmas</td>\n",
              "      <td>1</td>\n",
              "      <td>18300000</td>\n",
              "      <td>1:36</td>\n",
              "      <td>29200000</td>\n",
              "    </tr>\n",
              "    <tr>\n",
              "      <th>2</th>\n",
              "      <td>03Dr. Seuss' The Grinch</td>\n",
              "      <td>8</td>\n",
              "      <td>12900000</td>\n",
              "      <td>1:26</td>\n",
              "      <td>18500000</td>\n",
              "    </tr>\n",
              "    <tr>\n",
              "      <th>3</th>\n",
              "      <td>04Mary</td>\n",
              "      <td>1</td>\n",
              "      <td>11400000</td>\n",
              "      <td>1:52</td>\n",
              "      <td>21200000</td>\n",
              "    </tr>\n",
              "    <tr>\n",
              "      <th>4</th>\n",
              "      <td>05Twas the Text Before Christmas</td>\n",
              "      <td>1</td>\n",
              "      <td>8400000</td>\n",
              "      <td>1:24</td>\n",
              "      <td>11800000</td>\n",
              "    </tr>\n",
              "    <tr>\n",
              "      <th>5</th>\n",
              "      <td>06Subservience</td>\n",
              "      <td>1</td>\n",
              "      <td>7100000</td>\n",
              "      <td>1:45</td>\n",
              "      <td>12500000</td>\n",
              "    </tr>\n",
              "    <tr>\n",
              "      <th>6</th>\n",
              "      <td>07Spellbound</td>\n",
              "      <td>3</td>\n",
              "      <td>5300000</td>\n",
              "      <td>1:50</td>\n",
              "      <td>9800000</td>\n",
              "    </tr>\n",
              "    <tr>\n",
              "      <th>7</th>\n",
              "      <td>08A Royal Date for Christmas</td>\n",
              "      <td>1</td>\n",
              "      <td>5300000</td>\n",
              "      <td>1:28</td>\n",
              "      <td>7800000</td>\n",
              "    </tr>\n",
              "    <tr>\n",
              "      <th>8</th>\n",
              "      <td>09How the Grinch Stole Christmas</td>\n",
              "      <td>5</td>\n",
              "      <td>5100000</td>\n",
              "      <td>1:44</td>\n",
              "      <td>8800000</td>\n",
              "    </tr>\n",
              "    <tr>\n",
              "      <th>9</th>\n",
              "      <td>10Hotel Transylvania 3: Summer Vacation</td>\n",
              "      <td>6</td>\n",
              "      <td>4900000</td>\n",
              "      <td>1:37</td>\n",
              "      <td>7900000</td>\n",
              "    </tr>\n",
              "  </tbody>\n",
              "</table>\n",
              "</div>\n",
              "    <div class=\"colab-df-buttons\">\n",
              "\n",
              "  <div class=\"colab-df-container\">\n",
              "    <button class=\"colab-df-convert\" onclick=\"convertToInteractive('df-54724f6e-e92c-4946-a252-f6d7d36769b1')\"\n",
              "            title=\"Convert this dataframe to an interactive table.\"\n",
              "            style=\"display:none;\">\n",
              "\n",
              "  <svg xmlns=\"http://www.w3.org/2000/svg\" height=\"24px\" viewBox=\"0 -960 960 960\">\n",
              "    <path d=\"M120-120v-720h720v720H120Zm60-500h600v-160H180v160Zm220 220h160v-160H400v160Zm0 220h160v-160H400v160ZM180-400h160v-160H180v160Zm440 0h160v-160H620v160ZM180-180h160v-160H180v160Zm440 0h160v-160H620v160Z\"/>\n",
              "  </svg>\n",
              "    </button>\n",
              "\n",
              "  <style>\n",
              "    .colab-df-container {\n",
              "      display:flex;\n",
              "      gap: 12px;\n",
              "    }\n",
              "\n",
              "    .colab-df-convert {\n",
              "      background-color: #E8F0FE;\n",
              "      border: none;\n",
              "      border-radius: 50%;\n",
              "      cursor: pointer;\n",
              "      display: none;\n",
              "      fill: #1967D2;\n",
              "      height: 32px;\n",
              "      padding: 0 0 0 0;\n",
              "      width: 32px;\n",
              "    }\n",
              "\n",
              "    .colab-df-convert:hover {\n",
              "      background-color: #E2EBFA;\n",
              "      box-shadow: 0px 1px 2px rgba(60, 64, 67, 0.3), 0px 1px 3px 1px rgba(60, 64, 67, 0.15);\n",
              "      fill: #174EA6;\n",
              "    }\n",
              "\n",
              "    .colab-df-buttons div {\n",
              "      margin-bottom: 4px;\n",
              "    }\n",
              "\n",
              "    [theme=dark] .colab-df-convert {\n",
              "      background-color: #3B4455;\n",
              "      fill: #D2E3FC;\n",
              "    }\n",
              "\n",
              "    [theme=dark] .colab-df-convert:hover {\n",
              "      background-color: #434B5C;\n",
              "      box-shadow: 0px 1px 3px 1px rgba(0, 0, 0, 0.15);\n",
              "      filter: drop-shadow(0px 1px 2px rgba(0, 0, 0, 0.3));\n",
              "      fill: #FFFFFF;\n",
              "    }\n",
              "  </style>\n",
              "\n",
              "    <script>\n",
              "      const buttonEl =\n",
              "        document.querySelector('#df-54724f6e-e92c-4946-a252-f6d7d36769b1 button.colab-df-convert');\n",
              "      buttonEl.style.display =\n",
              "        google.colab.kernel.accessAllowed ? 'block' : 'none';\n",
              "\n",
              "      async function convertToInteractive(key) {\n",
              "        const element = document.querySelector('#df-54724f6e-e92c-4946-a252-f6d7d36769b1');\n",
              "        const dataTable =\n",
              "          await google.colab.kernel.invokeFunction('convertToInteractive',\n",
              "                                                    [key], {});\n",
              "        if (!dataTable) return;\n",
              "\n",
              "        const docLinkHtml = 'Like what you see? Visit the ' +\n",
              "          '<a target=\"_blank\" href=https://colab.research.google.com/notebooks/data_table.ipynb>data table notebook</a>'\n",
              "          + ' to learn more about interactive tables.';\n",
              "        element.innerHTML = '';\n",
              "        dataTable['output_type'] = 'display_data';\n",
              "        await google.colab.output.renderOutput(dataTable, element);\n",
              "        const docLink = document.createElement('div');\n",
              "        docLink.innerHTML = docLinkHtml;\n",
              "        element.appendChild(docLink);\n",
              "      }\n",
              "    </script>\n",
              "  </div>\n",
              "\n",
              "\n",
              "<div id=\"df-2263ae0e-09bf-4652-b81a-20aca6d4519b\">\n",
              "  <button class=\"colab-df-quickchart\" onclick=\"quickchart('df-2263ae0e-09bf-4652-b81a-20aca6d4519b')\"\n",
              "            title=\"Suggest charts\"\n",
              "            style=\"display:none;\">\n",
              "\n",
              "<svg xmlns=\"http://www.w3.org/2000/svg\" height=\"24px\"viewBox=\"0 0 24 24\"\n",
              "     width=\"24px\">\n",
              "    <g>\n",
              "        <path d=\"M19 3H5c-1.1 0-2 .9-2 2v14c0 1.1.9 2 2 2h14c1.1 0 2-.9 2-2V5c0-1.1-.9-2-2-2zM9 17H7v-7h2v7zm4 0h-2V7h2v10zm4 0h-2v-4h2v4z\"/>\n",
              "    </g>\n",
              "</svg>\n",
              "  </button>\n",
              "\n",
              "<style>\n",
              "  .colab-df-quickchart {\n",
              "      --bg-color: #E8F0FE;\n",
              "      --fill-color: #1967D2;\n",
              "      --hover-bg-color: #E2EBFA;\n",
              "      --hover-fill-color: #174EA6;\n",
              "      --disabled-fill-color: #AAA;\n",
              "      --disabled-bg-color: #DDD;\n",
              "  }\n",
              "\n",
              "  [theme=dark] .colab-df-quickchart {\n",
              "      --bg-color: #3B4455;\n",
              "      --fill-color: #D2E3FC;\n",
              "      --hover-bg-color: #434B5C;\n",
              "      --hover-fill-color: #FFFFFF;\n",
              "      --disabled-bg-color: #3B4455;\n",
              "      --disabled-fill-color: #666;\n",
              "  }\n",
              "\n",
              "  .colab-df-quickchart {\n",
              "    background-color: var(--bg-color);\n",
              "    border: none;\n",
              "    border-radius: 50%;\n",
              "    cursor: pointer;\n",
              "    display: none;\n",
              "    fill: var(--fill-color);\n",
              "    height: 32px;\n",
              "    padding: 0;\n",
              "    width: 32px;\n",
              "  }\n",
              "\n",
              "  .colab-df-quickchart:hover {\n",
              "    background-color: var(--hover-bg-color);\n",
              "    box-shadow: 0 1px 2px rgba(60, 64, 67, 0.3), 0 1px 3px 1px rgba(60, 64, 67, 0.15);\n",
              "    fill: var(--button-hover-fill-color);\n",
              "  }\n",
              "\n",
              "  .colab-df-quickchart-complete:disabled,\n",
              "  .colab-df-quickchart-complete:disabled:hover {\n",
              "    background-color: var(--disabled-bg-color);\n",
              "    fill: var(--disabled-fill-color);\n",
              "    box-shadow: none;\n",
              "  }\n",
              "\n",
              "  .colab-df-spinner {\n",
              "    border: 2px solid var(--fill-color);\n",
              "    border-color: transparent;\n",
              "    border-bottom-color: var(--fill-color);\n",
              "    animation:\n",
              "      spin 1s steps(1) infinite;\n",
              "  }\n",
              "\n",
              "  @keyframes spin {\n",
              "    0% {\n",
              "      border-color: transparent;\n",
              "      border-bottom-color: var(--fill-color);\n",
              "      border-left-color: var(--fill-color);\n",
              "    }\n",
              "    20% {\n",
              "      border-color: transparent;\n",
              "      border-left-color: var(--fill-color);\n",
              "      border-top-color: var(--fill-color);\n",
              "    }\n",
              "    30% {\n",
              "      border-color: transparent;\n",
              "      border-left-color: var(--fill-color);\n",
              "      border-top-color: var(--fill-color);\n",
              "      border-right-color: var(--fill-color);\n",
              "    }\n",
              "    40% {\n",
              "      border-color: transparent;\n",
              "      border-right-color: var(--fill-color);\n",
              "      border-top-color: var(--fill-color);\n",
              "    }\n",
              "    60% {\n",
              "      border-color: transparent;\n",
              "      border-right-color: var(--fill-color);\n",
              "    }\n",
              "    80% {\n",
              "      border-color: transparent;\n",
              "      border-right-color: var(--fill-color);\n",
              "      border-bottom-color: var(--fill-color);\n",
              "    }\n",
              "    90% {\n",
              "      border-color: transparent;\n",
              "      border-bottom-color: var(--fill-color);\n",
              "    }\n",
              "  }\n",
              "</style>\n",
              "\n",
              "  <script>\n",
              "    async function quickchart(key) {\n",
              "      const quickchartButtonEl =\n",
              "        document.querySelector('#' + key + ' button');\n",
              "      quickchartButtonEl.disabled = true;  // To prevent multiple clicks.\n",
              "      quickchartButtonEl.classList.add('colab-df-spinner');\n",
              "      try {\n",
              "        const charts = await google.colab.kernel.invokeFunction(\n",
              "            'suggestCharts', [key], {});\n",
              "      } catch (error) {\n",
              "        console.error('Error during call to suggestCharts:', error);\n",
              "      }\n",
              "      quickchartButtonEl.classList.remove('colab-df-spinner');\n",
              "      quickchartButtonEl.classList.add('colab-df-quickchart-complete');\n",
              "    }\n",
              "    (() => {\n",
              "      let quickchartButtonEl =\n",
              "        document.querySelector('#df-2263ae0e-09bf-4652-b81a-20aca6d4519b button');\n",
              "      quickchartButtonEl.style.display =\n",
              "        google.colab.kernel.accessAllowed ? 'block' : 'none';\n",
              "    })();\n",
              "  </script>\n",
              "</div>\n",
              "\n",
              "  <div id=\"id_521738c2-05e2-4992-a17c-fc8171344502\">\n",
              "    <style>\n",
              "      .colab-df-generate {\n",
              "        background-color: #E8F0FE;\n",
              "        border: none;\n",
              "        border-radius: 50%;\n",
              "        cursor: pointer;\n",
              "        display: none;\n",
              "        fill: #1967D2;\n",
              "        height: 32px;\n",
              "        padding: 0 0 0 0;\n",
              "        width: 32px;\n",
              "      }\n",
              "\n",
              "      .colab-df-generate:hover {\n",
              "        background-color: #E2EBFA;\n",
              "        box-shadow: 0px 1px 2px rgba(60, 64, 67, 0.3), 0px 1px 3px 1px rgba(60, 64, 67, 0.15);\n",
              "        fill: #174EA6;\n",
              "      }\n",
              "\n",
              "      [theme=dark] .colab-df-generate {\n",
              "        background-color: #3B4455;\n",
              "        fill: #D2E3FC;\n",
              "      }\n",
              "\n",
              "      [theme=dark] .colab-df-generate:hover {\n",
              "        background-color: #434B5C;\n",
              "        box-shadow: 0px 1px 3px 1px rgba(0, 0, 0, 0.15);\n",
              "        filter: drop-shadow(0px 1px 2px rgba(0, 0, 0, 0.3));\n",
              "        fill: #FFFFFF;\n",
              "      }\n",
              "    </style>\n",
              "    <button class=\"colab-df-generate\" onclick=\"generateWithVariable('top10')\"\n",
              "            title=\"Generate code using this dataframe.\"\n",
              "            style=\"display:none;\">\n",
              "\n",
              "  <svg xmlns=\"http://www.w3.org/2000/svg\" height=\"24px\"viewBox=\"0 0 24 24\"\n",
              "       width=\"24px\">\n",
              "    <path d=\"M7,19H8.4L18.45,9,17,7.55,7,17.6ZM5,21V16.75L18.45,3.32a2,2,0,0,1,2.83,0l1.4,1.43a1.91,1.91,0,0,1,.58,1.4,1.91,1.91,0,0,1-.58,1.4L9.25,21ZM18.45,9,17,7.55Zm-12,3A5.31,5.31,0,0,0,4.9,8.1,5.31,5.31,0,0,0,1,6.5,5.31,5.31,0,0,0,4.9,4.9,5.31,5.31,0,0,0,6.5,1,5.31,5.31,0,0,0,8.1,4.9,5.31,5.31,0,0,0,12,6.5,5.46,5.46,0,0,0,6.5,12Z\"/>\n",
              "  </svg>\n",
              "    </button>\n",
              "    <script>\n",
              "      (() => {\n",
              "      const buttonEl =\n",
              "        document.querySelector('#id_521738c2-05e2-4992-a17c-fc8171344502 button.colab-df-generate');\n",
              "      buttonEl.style.display =\n",
              "        google.colab.kernel.accessAllowed ? 'block' : 'none';\n",
              "\n",
              "      buttonEl.onclick = () => {\n",
              "        google.colab.notebook.generateWithVariable('top10');\n",
              "      }\n",
              "      })();\n",
              "    </script>\n",
              "  </div>\n",
              "\n",
              "    </div>\n",
              "  </div>\n"
            ],
            "application/vnd.google.colaboratory.intrinsic+json": {
              "type": "dataframe",
              "variable_name": "top10",
              "summary": "{\n  \"name\": \"top10\",\n  \"rows\": 10,\n  \"fields\": [\n    {\n      \"column\": \"Ranking\",\n      \"properties\": {\n        \"dtype\": \"string\",\n        \"num_unique_values\": 10,\n        \"samples\": [\n          \"09How the Grinch Stole Christmas\",\n          \"02That Christmas\",\n          \"06Subservience\"\n        ],\n        \"semantic_type\": \"\",\n        \"description\": \"\"\n      }\n    },\n    {\n      \"column\": \"Unnamed: 1\",\n      \"properties\": {\n        \"dtype\": \"number\",\n        \"std\": 2,\n        \"min\": 1,\n        \"max\": 8,\n        \"num_unique_values\": 6,\n        \"samples\": [\n          2,\n          1,\n          6\n        ],\n        \"semantic_type\": \"\",\n        \"description\": \"\"\n      }\n    },\n    {\n      \"column\": \"Views\",\n      \"properties\": {\n        \"dtype\": \"number\",\n        \"std\": 6378749,\n        \"min\": 4900000,\n        \"max\": 23500000,\n        \"num_unique_values\": 9,\n        \"samples\": [\n          5100000,\n          18300000,\n          7100000\n        ],\n        \"semantic_type\": \"\",\n        \"description\": \"\"\n      }\n    },\n    {\n      \"column\": \"Runtime\",\n      \"properties\": {\n        \"dtype\": \"object\",\n        \"num_unique_values\": 10,\n        \"samples\": [\n          \"1:44\",\n          \"1:36\",\n          \"1:45\"\n        ],\n        \"semantic_type\": \"\",\n        \"description\": \"\"\n      }\n    },\n    {\n      \"column\": \"Hours Viewed\",\n      \"properties\": {\n        \"dtype\": \"number\",\n        \"std\": 10582480,\n        \"min\": 7800000,\n        \"max\": 39500000,\n        \"num_unique_values\": 10,\n        \"samples\": [\n          8800000,\n          29200000,\n          12500000\n        ],\n        \"semantic_type\": \"\",\n        \"description\": \"\"\n      }\n    }\n  ]\n}"
            }
          },
          "metadata": {},
          "execution_count": 40
        }
      ],
      "source": [
        "top10=tables[0]\n",
        "top10"
      ]
    },
    {
      "cell_type": "markdown",
      "metadata": {
        "id": "RSPzYYeAiLoT"
      },
      "source": [
        "This looks more like the dataframes we were looking at earlier. There's a big chunk of text (this is HTML code, the language websites are built with) where the name of the second column should be. `read_html` is usually pretty smart, and can actually read the column names from the tables on the website. It seems to have gotten confused for this one column. If we print the columns from the  We can rename that column using the `rename` function. Since we know it's the second column, we can select it with `top10.columns[1]`"
      ]
    },
    {
      "cell_type": "code",
      "execution_count": null,
      "metadata": {
        "id": "cV8TKp61iLoT"
      },
      "outputs": [],
      "source": [
        "top10.rename(columns={top10.columns[1]: \"Title\" }, inplace = True)\n",
        "top10"
      ]
    },
    {
      "cell_type": "markdown",
      "metadata": {
        "id": "5YZ46AFEiLoT"
      },
      "source": [
        "And there we have it; a nicely formatted dataframe ready for analysis, straight from a website."
      ]
    },
    {
      "cell_type": "markdown",
      "metadata": {
        "id": "f8d7rQzPiLoT"
      },
      "source": [
        "\n",
        "# Assessed Question\n",
        "\n",
        "Using the following URL https://en.wikipedia.org/wiki/List_of_Nobel_laureates_in_Chemistry create a plot of the top 10 countries in terms of nobel laureates. First, follow the steps below:"
      ]
    },
    {
      "cell_type": "code",
      "execution_count": 41,
      "metadata": {
        "id": "3Dy-yOQsiLoT",
        "outputId": "ea89c5c6-53d6-4eba-d6ed-557d75bb258a",
        "colab": {
          "base_uri": "https://localhost:8080/"
        }
      },
      "outputs": [
        {
          "output_type": "stream",
          "name": "stdout",
          "text": [
            "     Year Image                               Laureate[A] Nationality[B]  \\\n",
            "0    1901   NaN  Jacobus Henricus van 't Hoff (1852–1911)          Dutch   \n",
            "1    1902   NaN          Hermann Emil Fischer (1852–1919)         German   \n",
            "2    1903   NaN       Svante August Arrhenius (1859–1927)        Swedish   \n",
            "3    1904   NaN            Sir William Ramsay (1852–1916)        British   \n",
            "4    1905   NaN              Adolf von Baeyer (1835–1917)         German   \n",
            "..    ...   ...                                       ...            ...   \n",
            "200  2023   NaN                   Louis E. Brus (b. 1943)       American   \n",
            "201  2023   NaN                   Alexey Ekimov (b. 1945)        Russian   \n",
            "202  2024   NaN                     David Baker (b. 1962)       American   \n",
            "203  2024   NaN                  Demis Hassabis (b. 1976)        British   \n",
            "204  2024   NaN                  John M. Jumper (b. 1985)       American   \n",
            "\n",
            "                                          Rationale[C]    Ref  \n",
            "0    \"[for his] discovery of the laws of chemical d...   [18]  \n",
            "1       \"[for] his work on sugar and purine syntheses\"   [19]  \n",
            "2      \"[for] his electrolytic theory of dissociation\"   [20]  \n",
            "3    \"[for his] discovery of the inert gaseous elem...   [21]  \n",
            "4    \"[for] the advancement of organic chemistry an...   [22]  \n",
            "..                                                 ...    ...  \n",
            "200  \"for the discovery and synthesis of quantum dots\"  [127]  \n",
            "201  \"for the discovery and synthesis of quantum dots\"  [127]  \n",
            "202                 \"for computational protein design\"  [128]  \n",
            "203                 “for protein structure prediction”  [128]  \n",
            "204                 “for protein structure prediction”  [128]  \n",
            "\n",
            "[205 rows x 6 columns]\n"
          ]
        }
      ],
      "source": [
        "# scrape the table of Nobel Laureates in Chemistry using read_html. remember, this gives us a LIST of dataframes! lets call this list chem_tables\n",
        "url_chem='https://en.wikipedia.org/wiki/List_of_Nobel_laureates_in_Chemistry'\n",
        "chem_tables=pandas.read_html(url_chem)\n",
        "\n",
        "# select the first dataframe from this list and call it chem\n",
        "chem = chem_tables[0]\n",
        "print(chem)"
      ]
    },
    {
      "cell_type": "markdown",
      "metadata": {
        "id": "8W1qAbUtiLoT"
      },
      "source": [
        "I'll help you out with this next bit. We'll be using the `groupby` function in pandas to group our dataframe such that each row is a country (rather than a person, as it currently is). We do this by using `<dataframe>.groupby('<column name>')`. Since we're aggregating, we need to tell python how we want it to aggregate our values. In this case, we just want to count the number of rows for each country; we can do this using `.size()`. You can use many different aggregation functions, e.g. `.mean()` if you wanted to calculate the average of a specific column."
      ]
    },
    {
      "cell_type": "code",
      "execution_count": 42,
      "metadata": {
        "id": "3fL0AFQRiLoU",
        "outputId": "ee453d9a-5a46-4bfe-a0a8-30a2c99228f3",
        "colab": {
          "base_uri": "https://localhost:8080/",
          "height": 844
        }
      },
      "outputs": [
        {
          "output_type": "execute_result",
          "data": {
            "text/plain": [
              "<Axes: xlabel='Nationality[B]'>"
            ]
          },
          "metadata": {},
          "execution_count": 42
        },
        {
          "output_type": "display_data",
          "data": {
            "text/plain": [
              "<Figure size 1000x800 with 1 Axes>"
            ],
            "image/png": "[encoded data removed]"
          },
          "metadata": {}
        }
      ],
      "source": [
        "# create a new dataframe called 'country' in which each row is a country, and the values represent the number of nobel laureates.\n",
        "countries = chem.groupby('Nationality[B]').size()\n",
        "# now sort it in descending order\n",
        "countries.sort_values(ascending=False, inplace=True)\n",
        "# finally, plot the top 10 countries\n",
        "countries.head(10).plot(kind='bar')"
      ]
    },
    {
      "cell_type": "markdown",
      "metadata": {
        "id": "EaapaBi9iLoU"
      },
      "source": [
        "*QUESTION: What country has the sixth most nobel prizes in chemistry?*"
      ]
    }
  ],
  "metadata": {
    "colab": {
      "name": "W2. Working with Data in Pandas.ipynb",
      "provenance": []
    },
    "kernelspec": {
      "display_name": "Python 3.9.7 ('geo')",
      "language": "python",
      "name": "python3"
    },
    "language_info": {
      "codemirror_mode": {
        "name": "ipython",
        "version": 3
      },
      "file_extension": ".py",
      "mimetype": "text/x-python",
      "name": "python",
      "nbconvert_exporter": "python",
      "pygments_lexer": "ipython3",
      "version": "3.9.7"
    },
    "vscode": {
      "interpreter": {
        "hash": "8ee0682e3aec3eb14c273afe4405335ee3a64a018407db16d950813fa3a05036"
      }
    }
  },
  "nbformat": 4,
  "nbformat_minor": 0
}